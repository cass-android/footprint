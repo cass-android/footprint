{
 "cells": [
  {
   "cell_type": "markdown",
   "metadata": {},
   "source": [
    "For scraping data from the Global Footprint Network.\n",
    "https://www.footprintnetwork.org/\n",
    "\n",
    "Countrycode Canada: 33\n",
    "\n",
    "data types: \n",
    "biocapacity per capita (gha / person): 'BCpc'\n",
    "biocapacity (gha): 'BCtot'\n",
    "ecological footprint per capita (gha / person): 'EFCpc'\n",
    "ecological footprint (gha): 'EFCtot'\n",
    "number of earths: 'earth'\n"
   ]
  },
  {
   "cell_type": "code",
   "execution_count": 19,
   "metadata": {},
   "outputs": [],
   "source": [
    "import pandas as pd\n",
    "import requests\n",
    "import json"
   ]
  },
  {
   "cell_type": "code",
   "execution_count": 20,
   "metadata": {},
   "outputs": [],
   "source": [
    "def download(country, datastring): \n",
    "    \n",
    "    countrycode = {'Canada':33,\n",
    "                    'World':5001}[country]\n",
    "    headers = {\n",
    "        'Accept': 'application/json',\n",
    "    }\n",
    "    key = '13CMLmdbBei8dBCKf4tv3Gq7u2Vkg89so04K2reij4tm0l8o17r6'\n",
    "    url_base = 'https://api.footprintnetwork.org/v1/data/'\n",
    "\n",
    "    yearout = []\n",
    "    valueout = []\n",
    "    years = list(range(1961,2017))\n",
    "\n",
    "    for year in years:\n",
    "        url = url_base+str(countrycode)+'/'+str(year)+'/'+datastring\n",
    "        r = requests.get(url, headers=headers, auth=('any-user-name', key))\n",
    "        yearout.append((json.loads(r.content))[0]['year'])\n",
    "        valueout.append((json.loads(r.content))[0]['value'])\n",
    "\n",
    "    df = pd.DataFrame({'year':yearout, datastring+'_'+country:valueout})\n",
    "    return df \n"
   ]
  },
  {
   "cell_type": "code",
   "execution_count": 21,
   "metadata": {},
   "outputs": [],
   "source": [
    "def mergedata(country):\n",
    "  \n",
    "    df = pd.DataFrame({'year':list(range(1961,2017))})\n",
    "    \n",
    "    for datastring in ['BCpc','BCtot','EFCpc','EFCtot','earth']:\n",
    "        dg = download(country,datastring)\n",
    "        df = df.merge(dg, on='year', how='left')\n",
    "        \n",
    "    return df"
   ]
  },
  {
   "cell_type": "code",
   "execution_count": 22,
   "metadata": {},
   "outputs": [],
   "source": [
    "def mergecountries():\n",
    "    \n",
    "    df = pd.DataFrame({'year':list(range(1961,2017))})\n",
    "    \n",
    "    for country in ['Canada', 'World']:\n",
    "        dg = mergedata(country)\n",
    "        df = df.merge(dg, on = 'year', how='left')\n",
    "        \n",
    "    return df\n"
   ]
  },
  {
   "cell_type": "code",
   "execution_count": 23,
   "metadata": {},
   "outputs": [],
   "source": [
    "df = mergecountries()"
   ]
  },
  {
   "cell_type": "code",
   "execution_count": 81,
   "metadata": {},
   "outputs": [],
   "source": [
    "df.to_csv('~/code/footprint/static/footprintnetwork.csv')\n",
    "#df2=pd.read_csv('~/code/footprint/static/footprintnetwork.csv')"
   ]
  },
  {
   "cell_type": "code",
   "execution_count": 79,
   "metadata": {},
   "outputs": [],
   "source": [
    "import datetime as dt\n",
    "leaps = [1964,1968,1972,1976,1980,1984,1988,1992,1996,2000,2004,2008,2012,2016] \n",
    "\n",
    "for i in df['year']:\n",
    "    if i in leaps:\n",
    "        df['od_world'] = (df['BCtot_World'] / df['EFCtot_World']) * 366\n",
    "        df['od_can_pc'] = (df['BCpc_World']/ df['EFCpc_Canada']) * 366\n",
    "    else:\n",
    "        df['od_world'] = (df['BCtot_World'] / df['EFCtot_World']) * 365\n",
    "        df['od_can_pc'] = (df['BCpc_World']/ df['EFCpc_Canada']) * 365\n",
    "    \n",
    "\n",
    "df['odate_world'] = [pd.to_datetime('1/1/1900') + dt.timedelta(days=i) for i in df['od_world']]\n",
    "df['odate_can'] = [pd.to_datetime('1/1/1900') + dt.timedelta(days=i) for i in df['od_can_pc']]\n",
    "\n"
   ]
  },
  {
   "cell_type": "code",
   "execution_count": 80,
   "metadata": {},
   "outputs": [
    {
     "data": {
      "text/plain": [
       "55   1900-08-06 04:05:34.998163\n",
       "Name: odate_world, dtype: datetime64[ns]"
      ]
     },
     "execution_count": 80,
     "metadata": {},
     "output_type": "execute_result"
    }
   ],
   "source": [
    "df[df['year']==2016]['odate_world']"
   ]
  },
  {
   "cell_type": "code",
   "execution_count": 67,
   "metadata": {},
   "outputs": [
    {
     "data": {
      "text/plain": [
       "55    1900-08-05 13:51:08.509097\n",
       "Name: odate_world, dtype: object"
      ]
     },
     "execution_count": 67,
     "metadata": {},
     "output_type": "execute_result"
    }
   ],
   "source": [
    "df2[df2['year']==2016]['odate_world']"
   ]
  },
  {
   "cell_type": "code",
   "execution_count": 54,
   "metadata": {},
   "outputs": [
    {
     "data": {
      "text/html": [
       "<div>\n",
       "<style scoped>\n",
       "    .dataframe tbody tr th:only-of-type {\n",
       "        vertical-align: middle;\n",
       "    }\n",
       "\n",
       "    .dataframe tbody tr th {\n",
       "        vertical-align: top;\n",
       "    }\n",
       "\n",
       "    .dataframe thead th {\n",
       "        text-align: right;\n",
       "    }\n",
       "</style>\n",
       "<table border=\"1\" class=\"dataframe\">\n",
       "  <thead>\n",
       "    <tr style=\"text-align: right;\">\n",
       "      <th></th>\n",
       "      <th>year</th>\n",
       "      <th>BCpc_Canada</th>\n",
       "      <th>BCtot_Canada</th>\n",
       "      <th>EFCpc_Canada</th>\n",
       "      <th>EFCtot_Canada</th>\n",
       "      <th>earth_Canada</th>\n",
       "      <th>BCpc_World</th>\n",
       "      <th>BCtot_World</th>\n",
       "      <th>EFCpc_World</th>\n",
       "      <th>EFCtot_World</th>\n",
       "      <th>earth_World</th>\n",
       "      <th>od_world</th>\n",
       "      <th>od_can_pc</th>\n",
       "      <th>odate_world</th>\n",
       "      <th>odate_can</th>\n",
       "    </tr>\n",
       "  </thead>\n",
       "  <tbody>\n",
       "    <tr>\n",
       "      <th>0</th>\n",
       "      <td>1961</td>\n",
       "      <td>26.269294</td>\n",
       "      <td>4.808437e+08</td>\n",
       "      <td>7.386358</td>\n",
       "      <td>1.352029e+08</td>\n",
       "      <td>2.370565</td>\n",
       "      <td>3.115864</td>\n",
       "      <td>9.628986e+09</td>\n",
       "      <td>2.281760</td>\n",
       "      <td>7.051336e+09</td>\n",
       "      <td>0.732304</td>\n",
       "      <td>498.427475</td>\n",
       "      <td>153.971732</td>\n",
       "      <td>1901-05-14 10:15:33.877515</td>\n",
       "      <td>1900-06-03 23:19:17.642986</td>\n",
       "    </tr>\n",
       "    <tr>\n",
       "      <th>1</th>\n",
       "      <td>1962</td>\n",
       "      <td>26.616808</td>\n",
       "      <td>4.968985e+08</td>\n",
       "      <td>8.821525</td>\n",
       "      <td>1.646855e+08</td>\n",
       "      <td>2.867392</td>\n",
       "      <td>3.076497</td>\n",
       "      <td>9.688629e+09</td>\n",
       "      <td>2.313300</td>\n",
       "      <td>7.285146e+09</td>\n",
       "      <td>0.751926</td>\n",
       "      <td>485.419195</td>\n",
       "      <td>127.293360</td>\n",
       "      <td>1901-05-01 10:03:38.409020</td>\n",
       "      <td>1900-05-08 07:02:26.326283</td>\n",
       "    </tr>\n",
       "    <tr>\n",
       "      <th>2</th>\n",
       "      <td>1963</td>\n",
       "      <td>26.570556</td>\n",
       "      <td>5.052843e+08</td>\n",
       "      <td>9.321593</td>\n",
       "      <td>1.772659e+08</td>\n",
       "      <td>3.089634</td>\n",
       "      <td>3.017054</td>\n",
       "      <td>9.685557e+09</td>\n",
       "      <td>2.357557</td>\n",
       "      <td>7.568398e+09</td>\n",
       "      <td>0.781410</td>\n",
       "      <td>467.103901</td>\n",
       "      <td>118.136954</td>\n",
       "      <td>1901-04-13 02:29:37.032621</td>\n",
       "      <td>1900-04-29 03:17:12.856434</td>\n",
       "    </tr>\n",
       "    <tr>\n",
       "      <th>3</th>\n",
       "      <td>1964</td>\n",
       "      <td>25.589469</td>\n",
       "      <td>4.953916e+08</td>\n",
       "      <td>8.738150</td>\n",
       "      <td>1.691636e+08</td>\n",
       "      <td>2.938162</td>\n",
       "      <td>2.974019</td>\n",
       "      <td>9.735957e+09</td>\n",
       "      <td>2.408931</td>\n",
       "      <td>7.886046e+09</td>\n",
       "      <td>0.809992</td>\n",
       "      <td>450.621813</td>\n",
       "      <td>124.227319</td>\n",
       "      <td>1901-03-27 14:55:24.654735</td>\n",
       "      <td>1900-05-05 05:27:20.404508</td>\n",
       "    </tr>\n",
       "    <tr>\n",
       "      <th>4</th>\n",
       "      <td>1965</td>\n",
       "      <td>25.508971</td>\n",
       "      <td>5.026262e+08</td>\n",
       "      <td>9.266734</td>\n",
       "      <td>1.825908e+08</td>\n",
       "      <td>3.171051</td>\n",
       "      <td>2.922291</td>\n",
       "      <td>9.759252e+09</td>\n",
       "      <td>2.448154</td>\n",
       "      <td>8.175837e+09</td>\n",
       "      <td>0.837752</td>\n",
       "      <td>435.689574</td>\n",
       "      <td>115.103776</td>\n",
       "      <td>1901-03-12 16:32:59.212402</td>\n",
       "      <td>1900-04-26 02:29:26.248989</td>\n",
       "    </tr>\n",
       "  </tbody>\n",
       "</table>\n",
       "</div>"
      ],
      "text/plain": [
       "   year  BCpc_Canada  BCtot_Canada  EFCpc_Canada  EFCtot_Canada  earth_Canada  \\\n",
       "0  1961    26.269294  4.808437e+08      7.386358   1.352029e+08      2.370565   \n",
       "1  1962    26.616808  4.968985e+08      8.821525   1.646855e+08      2.867392   \n",
       "2  1963    26.570556  5.052843e+08      9.321593   1.772659e+08      3.089634   \n",
       "3  1964    25.589469  4.953916e+08      8.738150   1.691636e+08      2.938162   \n",
       "4  1965    25.508971  5.026262e+08      9.266734   1.825908e+08      3.171051   \n",
       "\n",
       "   BCpc_World   BCtot_World  EFCpc_World  EFCtot_World  earth_World  \\\n",
       "0    3.115864  9.628986e+09     2.281760  7.051336e+09     0.732304   \n",
       "1    3.076497  9.688629e+09     2.313300  7.285146e+09     0.751926   \n",
       "2    3.017054  9.685557e+09     2.357557  7.568398e+09     0.781410   \n",
       "3    2.974019  9.735957e+09     2.408931  7.886046e+09     0.809992   \n",
       "4    2.922291  9.759252e+09     2.448154  8.175837e+09     0.837752   \n",
       "\n",
       "     od_world   od_can_pc                odate_world  \\\n",
       "0  498.427475  153.971732 1901-05-14 10:15:33.877515   \n",
       "1  485.419195  127.293360 1901-05-01 10:03:38.409020   \n",
       "2  467.103901  118.136954 1901-04-13 02:29:37.032621   \n",
       "3  450.621813  124.227319 1901-03-27 14:55:24.654735   \n",
       "4  435.689574  115.103776 1901-03-12 16:32:59.212402   \n",
       "\n",
       "                   odate_can  \n",
       "0 1900-06-03 23:19:17.642986  \n",
       "1 1900-05-08 07:02:26.326283  \n",
       "2 1900-04-29 03:17:12.856434  \n",
       "3 1900-05-05 05:27:20.404508  \n",
       "4 1900-04-26 02:29:26.248989  "
      ]
     },
     "execution_count": 54,
     "metadata": {},
     "output_type": "execute_result"
    }
   ],
   "source": [
    "df.head()"
   ]
  },
  {
   "cell_type": "code",
   "execution_count": 82,
   "metadata": {},
   "outputs": [
    {
     "data": {
      "text/plain": [
       "1.7032334153714166"
      ]
     },
     "execution_count": 82,
     "metadata": {},
     "output_type": "execute_result"
    }
   ],
   "source": [
    "max(df['earth_World'])\n"
   ]
  },
  {
   "cell_type": "code",
   "execution_count": 205,
   "metadata": {},
   "outputs": [
    {
     "data": {
      "application/vnd.plotly.v1+json": {
       "config": {
        "plotlyServerURL": "https://plot.ly"
       },
       "data": [
        {
         "type": "bar",
         "x": [
          1961,
          1962,
          1963,
          1964,
          1965,
          1966,
          1967,
          1968,
          1969,
          1970,
          1971,
          1972,
          1973,
          1974,
          1975,
          1976,
          1977,
          1978,
          1979,
          1980,
          1981,
          1982,
          1983,
          1984,
          1985,
          1986,
          1987,
          1988,
          1989,
          1990,
          1991,
          1992,
          1993,
          1994,
          1995,
          1996,
          1997,
          1998,
          1999,
          2000,
          2001,
          2002,
          2003,
          2004,
          2005,
          2006,
          2007,
          2008,
          2009,
          2010,
          2011,
          2012,
          2013,
          2014,
          2015,
          2016
         ],
         "y": [
          153.97173197900062,
          127.29336025790742,
          118.13695435687589,
          124.22731949662315,
          115.10377602996348,
          109.41387301294304,
          109.35034969925732,
          108.71821326913059,
          100.4925832916711,
          107.15056661803064,
          104.0533303595498,
          103.04371858376389,
          93.35376101474462,
          94.81946146946284,
          92.92500394301489,
          87.25242521354666,
          88.74147639961384,
          87.39962589137744,
          84.89380162823227,
          87.73506028082437,
          90.54839898674375,
          96.04673071090123,
          97.9782270545651,
          95.5810911166197,
          88.16922899220123,
          82.49871051215496,
          84.61529757006669,
          85.27972775777096,
          76.28863304700998,
          84.43821152633878,
          90.1844827549894,
          90.82122816192711,
          87.22321913656681,
          89.73709399671743,
          84.80115923785445,
          81.2844059592564,
          81.69131746770415,
          81.82157322890136,
          76.3652804958243,
          74.5513862517913,
          79.6394631184807,
          79.21750242775282,
          72.37672015512443,
          70.75066721114274,
          68.1924307517735,
          72.88927368752378,
          73.39871601304088,
          74.57286603431263,
          78.6599483877724,
          74.47398255651467,
          73.6080871831056,
          73.53523615523251,
          69.85913941211003,
          78.3060659107622,
          77.41564297149668,
          76.85581613686281
         ]
        },
        {
         "type": "bar",
         "x": [
          1961,
          1962,
          1963,
          1964,
          1965,
          1966,
          1967,
          1968,
          1969,
          1970,
          1971,
          1972,
          1973,
          1974,
          1975,
          1976,
          1977,
          1978,
          1979,
          1980,
          1981,
          1982,
          1983,
          1984,
          1985,
          1986,
          1987,
          1988,
          1989,
          1990,
          1991,
          1992,
          1993,
          1994,
          1995,
          1996,
          1997,
          1998,
          1999,
          2000,
          2001,
          2002,
          2003,
          2004,
          2005,
          2006,
          2007,
          2008,
          2009,
          2010,
          2011,
          2012,
          2013,
          2014,
          2015,
          2016
         ],
         "y": [
          498.4274754342011,
          485.41919454883873,
          467.1039008405262,
          450.6218131335091,
          435.6895742176186,
          421.89571043258906,
          412.5413430597385,
          398.36139088876223,
          382.43809770110835,
          362.91237453818394,
          353.7494375080894,
          343.11835234490707,
          329.3707310364603,
          330.90714159991984,
          333.37561345617047,
          320.07840772877285,
          314.092211688918,
          310.2026254702663,
          301.65865553344804,
          307.2165413111979,
          314.12129398312015,
          318.3967090461477,
          317.4767446731464,
          309.9837395035946,
          307.02895637108696,
          302.5462698818718,
          295.3621367861799,
          287.28002270543107,
          283.9722063302734,
          283.63855726314137,
          282.5080283761478,
          285.0021961174375,
          284.53534634420595,
          282.63133471502636,
          276.5993628941928,
          274.35985742076946,
          271.1915577021363,
          271.707787778066,
          271.4612788827353,
          265.35338646228695,
          264.0450722367244,
          261.0850444279136,
          251.42219799143624,
          243.62312868995303,
          236.30091691546994,
          230.78872438460724,
          225.34108544157849,
          226.01163029630888,
          229.15314784106977,
          218.4895221334197,
          215.4703495210831,
          215.5237309881187,
          214.29838905591555,
          215.31841832249657,
          216.25508837586153,
          216.57718181824927
         ]
        }
       ],
       "layout": {
        "template": {
         "data": {
          "bar": [
           {
            "error_x": {
             "color": "#2a3f5f"
            },
            "error_y": {
             "color": "#2a3f5f"
            },
            "marker": {
             "line": {
              "color": "#E5ECF6",
              "width": 0.5
             }
            },
            "type": "bar"
           }
          ],
          "barpolar": [
           {
            "marker": {
             "line": {
              "color": "#E5ECF6",
              "width": 0.5
             }
            },
            "type": "barpolar"
           }
          ],
          "carpet": [
           {
            "aaxis": {
             "endlinecolor": "#2a3f5f",
             "gridcolor": "white",
             "linecolor": "white",
             "minorgridcolor": "white",
             "startlinecolor": "#2a3f5f"
            },
            "baxis": {
             "endlinecolor": "#2a3f5f",
             "gridcolor": "white",
             "linecolor": "white",
             "minorgridcolor": "white",
             "startlinecolor": "#2a3f5f"
            },
            "type": "carpet"
           }
          ],
          "choropleth": [
           {
            "colorbar": {
             "outlinewidth": 0,
             "ticks": ""
            },
            "type": "choropleth"
           }
          ],
          "contour": [
           {
            "colorbar": {
             "outlinewidth": 0,
             "ticks": ""
            },
            "colorscale": [
             [
              0,
              "#0d0887"
             ],
             [
              0.1111111111111111,
              "#46039f"
             ],
             [
              0.2222222222222222,
              "#7201a8"
             ],
             [
              0.3333333333333333,
              "#9c179e"
             ],
             [
              0.4444444444444444,
              "#bd3786"
             ],
             [
              0.5555555555555556,
              "#d8576b"
             ],
             [
              0.6666666666666666,
              "#ed7953"
             ],
             [
              0.7777777777777778,
              "#fb9f3a"
             ],
             [
              0.8888888888888888,
              "#fdca26"
             ],
             [
              1,
              "#f0f921"
             ]
            ],
            "type": "contour"
           }
          ],
          "contourcarpet": [
           {
            "colorbar": {
             "outlinewidth": 0,
             "ticks": ""
            },
            "type": "contourcarpet"
           }
          ],
          "heatmap": [
           {
            "colorbar": {
             "outlinewidth": 0,
             "ticks": ""
            },
            "colorscale": [
             [
              0,
              "#0d0887"
             ],
             [
              0.1111111111111111,
              "#46039f"
             ],
             [
              0.2222222222222222,
              "#7201a8"
             ],
             [
              0.3333333333333333,
              "#9c179e"
             ],
             [
              0.4444444444444444,
              "#bd3786"
             ],
             [
              0.5555555555555556,
              "#d8576b"
             ],
             [
              0.6666666666666666,
              "#ed7953"
             ],
             [
              0.7777777777777778,
              "#fb9f3a"
             ],
             [
              0.8888888888888888,
              "#fdca26"
             ],
             [
              1,
              "#f0f921"
             ]
            ],
            "type": "heatmap"
           }
          ],
          "heatmapgl": [
           {
            "colorbar": {
             "outlinewidth": 0,
             "ticks": ""
            },
            "colorscale": [
             [
              0,
              "#0d0887"
             ],
             [
              0.1111111111111111,
              "#46039f"
             ],
             [
              0.2222222222222222,
              "#7201a8"
             ],
             [
              0.3333333333333333,
              "#9c179e"
             ],
             [
              0.4444444444444444,
              "#bd3786"
             ],
             [
              0.5555555555555556,
              "#d8576b"
             ],
             [
              0.6666666666666666,
              "#ed7953"
             ],
             [
              0.7777777777777778,
              "#fb9f3a"
             ],
             [
              0.8888888888888888,
              "#fdca26"
             ],
             [
              1,
              "#f0f921"
             ]
            ],
            "type": "heatmapgl"
           }
          ],
          "histogram": [
           {
            "marker": {
             "colorbar": {
              "outlinewidth": 0,
              "ticks": ""
             }
            },
            "type": "histogram"
           }
          ],
          "histogram2d": [
           {
            "colorbar": {
             "outlinewidth": 0,
             "ticks": ""
            },
            "colorscale": [
             [
              0,
              "#0d0887"
             ],
             [
              0.1111111111111111,
              "#46039f"
             ],
             [
              0.2222222222222222,
              "#7201a8"
             ],
             [
              0.3333333333333333,
              "#9c179e"
             ],
             [
              0.4444444444444444,
              "#bd3786"
             ],
             [
              0.5555555555555556,
              "#d8576b"
             ],
             [
              0.6666666666666666,
              "#ed7953"
             ],
             [
              0.7777777777777778,
              "#fb9f3a"
             ],
             [
              0.8888888888888888,
              "#fdca26"
             ],
             [
              1,
              "#f0f921"
             ]
            ],
            "type": "histogram2d"
           }
          ],
          "histogram2dcontour": [
           {
            "colorbar": {
             "outlinewidth": 0,
             "ticks": ""
            },
            "colorscale": [
             [
              0,
              "#0d0887"
             ],
             [
              0.1111111111111111,
              "#46039f"
             ],
             [
              0.2222222222222222,
              "#7201a8"
             ],
             [
              0.3333333333333333,
              "#9c179e"
             ],
             [
              0.4444444444444444,
              "#bd3786"
             ],
             [
              0.5555555555555556,
              "#d8576b"
             ],
             [
              0.6666666666666666,
              "#ed7953"
             ],
             [
              0.7777777777777778,
              "#fb9f3a"
             ],
             [
              0.8888888888888888,
              "#fdca26"
             ],
             [
              1,
              "#f0f921"
             ]
            ],
            "type": "histogram2dcontour"
           }
          ],
          "mesh3d": [
           {
            "colorbar": {
             "outlinewidth": 0,
             "ticks": ""
            },
            "type": "mesh3d"
           }
          ],
          "parcoords": [
           {
            "line": {
             "colorbar": {
              "outlinewidth": 0,
              "ticks": ""
             }
            },
            "type": "parcoords"
           }
          ],
          "scatter": [
           {
            "marker": {
             "colorbar": {
              "outlinewidth": 0,
              "ticks": ""
             }
            },
            "type": "scatter"
           }
          ],
          "scatter3d": [
           {
            "line": {
             "colorbar": {
              "outlinewidth": 0,
              "ticks": ""
             }
            },
            "marker": {
             "colorbar": {
              "outlinewidth": 0,
              "ticks": ""
             }
            },
            "type": "scatter3d"
           }
          ],
          "scattercarpet": [
           {
            "marker": {
             "colorbar": {
              "outlinewidth": 0,
              "ticks": ""
             }
            },
            "type": "scattercarpet"
           }
          ],
          "scattergeo": [
           {
            "marker": {
             "colorbar": {
              "outlinewidth": 0,
              "ticks": ""
             }
            },
            "type": "scattergeo"
           }
          ],
          "scattergl": [
           {
            "marker": {
             "colorbar": {
              "outlinewidth": 0,
              "ticks": ""
             }
            },
            "type": "scattergl"
           }
          ],
          "scattermapbox": [
           {
            "marker": {
             "colorbar": {
              "outlinewidth": 0,
              "ticks": ""
             }
            },
            "type": "scattermapbox"
           }
          ],
          "scatterpolar": [
           {
            "marker": {
             "colorbar": {
              "outlinewidth": 0,
              "ticks": ""
             }
            },
            "type": "scatterpolar"
           }
          ],
          "scatterpolargl": [
           {
            "marker": {
             "colorbar": {
              "outlinewidth": 0,
              "ticks": ""
             }
            },
            "type": "scatterpolargl"
           }
          ],
          "scatterternary": [
           {
            "marker": {
             "colorbar": {
              "outlinewidth": 0,
              "ticks": ""
             }
            },
            "type": "scatterternary"
           }
          ],
          "surface": [
           {
            "colorbar": {
             "outlinewidth": 0,
             "ticks": ""
            },
            "colorscale": [
             [
              0,
              "#0d0887"
             ],
             [
              0.1111111111111111,
              "#46039f"
             ],
             [
              0.2222222222222222,
              "#7201a8"
             ],
             [
              0.3333333333333333,
              "#9c179e"
             ],
             [
              0.4444444444444444,
              "#bd3786"
             ],
             [
              0.5555555555555556,
              "#d8576b"
             ],
             [
              0.6666666666666666,
              "#ed7953"
             ],
             [
              0.7777777777777778,
              "#fb9f3a"
             ],
             [
              0.8888888888888888,
              "#fdca26"
             ],
             [
              1,
              "#f0f921"
             ]
            ],
            "type": "surface"
           }
          ],
          "table": [
           {
            "cells": {
             "fill": {
              "color": "#EBF0F8"
             },
             "line": {
              "color": "white"
             }
            },
            "header": {
             "fill": {
              "color": "#C8D4E3"
             },
             "line": {
              "color": "white"
             }
            },
            "type": "table"
           }
          ]
         },
         "layout": {
          "annotationdefaults": {
           "arrowcolor": "#2a3f5f",
           "arrowhead": 0,
           "arrowwidth": 1
          },
          "colorscale": {
           "diverging": [
            [
             0,
             "#8e0152"
            ],
            [
             0.1,
             "#c51b7d"
            ],
            [
             0.2,
             "#de77ae"
            ],
            [
             0.3,
             "#f1b6da"
            ],
            [
             0.4,
             "#fde0ef"
            ],
            [
             0.5,
             "#f7f7f7"
            ],
            [
             0.6,
             "#e6f5d0"
            ],
            [
             0.7,
             "#b8e186"
            ],
            [
             0.8,
             "#7fbc41"
            ],
            [
             0.9,
             "#4d9221"
            ],
            [
             1,
             "#276419"
            ]
           ],
           "sequential": [
            [
             0,
             "#0d0887"
            ],
            [
             0.1111111111111111,
             "#46039f"
            ],
            [
             0.2222222222222222,
             "#7201a8"
            ],
            [
             0.3333333333333333,
             "#9c179e"
            ],
            [
             0.4444444444444444,
             "#bd3786"
            ],
            [
             0.5555555555555556,
             "#d8576b"
            ],
            [
             0.6666666666666666,
             "#ed7953"
            ],
            [
             0.7777777777777778,
             "#fb9f3a"
            ],
            [
             0.8888888888888888,
             "#fdca26"
            ],
            [
             1,
             "#f0f921"
            ]
           ],
           "sequentialminus": [
            [
             0,
             "#0d0887"
            ],
            [
             0.1111111111111111,
             "#46039f"
            ],
            [
             0.2222222222222222,
             "#7201a8"
            ],
            [
             0.3333333333333333,
             "#9c179e"
            ],
            [
             0.4444444444444444,
             "#bd3786"
            ],
            [
             0.5555555555555556,
             "#d8576b"
            ],
            [
             0.6666666666666666,
             "#ed7953"
            ],
            [
             0.7777777777777778,
             "#fb9f3a"
            ],
            [
             0.8888888888888888,
             "#fdca26"
            ],
            [
             1,
             "#f0f921"
            ]
           ]
          },
          "colorway": [
           "#636efa",
           "#EF553B",
           "#00cc96",
           "#ab63fa",
           "#FFA15A",
           "#19d3f3",
           "#FF6692",
           "#B6E880",
           "#FF97FF",
           "#FECB52"
          ],
          "font": {
           "color": "#2a3f5f"
          },
          "geo": {
           "bgcolor": "white",
           "lakecolor": "white",
           "landcolor": "#E5ECF6",
           "showlakes": true,
           "showland": true,
           "subunitcolor": "white"
          },
          "hoverlabel": {
           "align": "left"
          },
          "hovermode": "closest",
          "mapbox": {
           "style": "light"
          },
          "paper_bgcolor": "white",
          "plot_bgcolor": "#E5ECF6",
          "polar": {
           "angularaxis": {
            "gridcolor": "white",
            "linecolor": "white",
            "ticks": ""
           },
           "bgcolor": "#E5ECF6",
           "radialaxis": {
            "gridcolor": "white",
            "linecolor": "white",
            "ticks": ""
           }
          },
          "scene": {
           "xaxis": {
            "backgroundcolor": "#E5ECF6",
            "gridcolor": "white",
            "gridwidth": 2,
            "linecolor": "white",
            "showbackground": true,
            "ticks": "",
            "zerolinecolor": "white"
           },
           "yaxis": {
            "backgroundcolor": "#E5ECF6",
            "gridcolor": "white",
            "gridwidth": 2,
            "linecolor": "white",
            "showbackground": true,
            "ticks": "",
            "zerolinecolor": "white"
           },
           "zaxis": {
            "backgroundcolor": "#E5ECF6",
            "gridcolor": "white",
            "gridwidth": 2,
            "linecolor": "white",
            "showbackground": true,
            "ticks": "",
            "zerolinecolor": "white"
           }
          },
          "shapedefaults": {
           "line": {
            "color": "#2a3f5f"
           }
          },
          "ternary": {
           "aaxis": {
            "gridcolor": "white",
            "linecolor": "white",
            "ticks": ""
           },
           "baxis": {
            "gridcolor": "white",
            "linecolor": "white",
            "ticks": ""
           },
           "bgcolor": "#E5ECF6",
           "caxis": {
            "gridcolor": "white",
            "linecolor": "white",
            "ticks": ""
           }
          },
          "title": {
           "x": 0.05
          },
          "xaxis": {
           "automargin": true,
           "gridcolor": "white",
           "linecolor": "white",
           "ticks": "",
           "zerolinecolor": "white",
           "zerolinewidth": 2
          },
          "yaxis": {
           "automargin": true,
           "gridcolor": "white",
           "linecolor": "white",
           "ticks": "",
           "zerolinecolor": "white",
           "zerolinewidth": 2
          }
         }
        }
       }
      },
      "text/html": [
       "<div>\n",
       "        \n",
       "        \n",
       "            <div id=\"9656ded2-3f8c-45d1-bd91-bb922607f5ff\" class=\"plotly-graph-div\" style=\"height:525px; width:100%;\"></div>\n",
       "            <script type=\"text/javascript\">\n",
       "                require([\"plotly\"], function(Plotly) {\n",
       "                    window.PLOTLYENV=window.PLOTLYENV || {};\n",
       "                    \n",
       "                if (document.getElementById(\"9656ded2-3f8c-45d1-bd91-bb922607f5ff\")) {\n",
       "                    Plotly.newPlot(\n",
       "                        '9656ded2-3f8c-45d1-bd91-bb922607f5ff',\n",
       "                        [{\"type\": \"bar\", \"x\": [1961, 1962, 1963, 1964, 1965, 1966, 1967, 1968, 1969, 1970, 1971, 1972, 1973, 1974, 1975, 1976, 1977, 1978, 1979, 1980, 1981, 1982, 1983, 1984, 1985, 1986, 1987, 1988, 1989, 1990, 1991, 1992, 1993, 1994, 1995, 1996, 1997, 1998, 1999, 2000, 2001, 2002, 2003, 2004, 2005, 2006, 2007, 2008, 2009, 2010, 2011, 2012, 2013, 2014, 2015, 2016], \"y\": [153.97173197900062, 127.29336025790742, 118.13695435687589, 124.22731949662315, 115.10377602996348, 109.41387301294304, 109.35034969925732, 108.71821326913059, 100.4925832916711, 107.15056661803064, 104.0533303595498, 103.04371858376389, 93.35376101474462, 94.81946146946284, 92.92500394301489, 87.25242521354666, 88.74147639961384, 87.39962589137744, 84.89380162823227, 87.73506028082437, 90.54839898674375, 96.04673071090123, 97.9782270545651, 95.5810911166197, 88.16922899220123, 82.49871051215496, 84.61529757006669, 85.27972775777096, 76.28863304700998, 84.43821152633878, 90.1844827549894, 90.82122816192711, 87.22321913656681, 89.73709399671743, 84.80115923785445, 81.2844059592564, 81.69131746770415, 81.82157322890136, 76.3652804958243, 74.5513862517913, 79.6394631184807, 79.21750242775282, 72.37672015512443, 70.75066721114274, 68.1924307517735, 72.88927368752378, 73.39871601304088, 74.57286603431263, 78.6599483877724, 74.47398255651467, 73.6080871831056, 73.53523615523251, 69.85913941211003, 78.3060659107622, 77.41564297149668, 76.85581613686281]}, {\"type\": \"bar\", \"x\": [1961, 1962, 1963, 1964, 1965, 1966, 1967, 1968, 1969, 1970, 1971, 1972, 1973, 1974, 1975, 1976, 1977, 1978, 1979, 1980, 1981, 1982, 1983, 1984, 1985, 1986, 1987, 1988, 1989, 1990, 1991, 1992, 1993, 1994, 1995, 1996, 1997, 1998, 1999, 2000, 2001, 2002, 2003, 2004, 2005, 2006, 2007, 2008, 2009, 2010, 2011, 2012, 2013, 2014, 2015, 2016], \"y\": [498.4274754342011, 485.41919454883873, 467.1039008405262, 450.6218131335091, 435.6895742176186, 421.89571043258906, 412.5413430597385, 398.36139088876223, 382.43809770110835, 362.91237453818394, 353.7494375080894, 343.11835234490707, 329.3707310364603, 330.90714159991984, 333.37561345617047, 320.07840772877285, 314.092211688918, 310.2026254702663, 301.65865553344804, 307.2165413111979, 314.12129398312015, 318.3967090461477, 317.4767446731464, 309.9837395035946, 307.02895637108696, 302.5462698818718, 295.3621367861799, 287.28002270543107, 283.9722063302734, 283.63855726314137, 282.5080283761478, 285.0021961174375, 284.53534634420595, 282.63133471502636, 276.5993628941928, 274.35985742076946, 271.1915577021363, 271.707787778066, 271.4612788827353, 265.35338646228695, 264.0450722367244, 261.0850444279136, 251.42219799143624, 243.62312868995303, 236.30091691546994, 230.78872438460724, 225.34108544157849, 226.01163029630888, 229.15314784106977, 218.4895221334197, 215.4703495210831, 215.5237309881187, 214.29838905591555, 215.31841832249657, 216.25508837586153, 216.57718181824927]}],\n",
       "                        {\"template\": {\"data\": {\"bar\": [{\"error_x\": {\"color\": \"#2a3f5f\"}, \"error_y\": {\"color\": \"#2a3f5f\"}, \"marker\": {\"line\": {\"color\": \"#E5ECF6\", \"width\": 0.5}}, \"type\": \"bar\"}], \"barpolar\": [{\"marker\": {\"line\": {\"color\": \"#E5ECF6\", \"width\": 0.5}}, \"type\": \"barpolar\"}], \"carpet\": [{\"aaxis\": {\"endlinecolor\": \"#2a3f5f\", \"gridcolor\": \"white\", \"linecolor\": \"white\", \"minorgridcolor\": \"white\", \"startlinecolor\": \"#2a3f5f\"}, \"baxis\": {\"endlinecolor\": \"#2a3f5f\", \"gridcolor\": \"white\", \"linecolor\": \"white\", \"minorgridcolor\": \"white\", \"startlinecolor\": \"#2a3f5f\"}, \"type\": \"carpet\"}], \"choropleth\": [{\"colorbar\": {\"outlinewidth\": 0, \"ticks\": \"\"}, \"type\": \"choropleth\"}], \"contour\": [{\"colorbar\": {\"outlinewidth\": 0, \"ticks\": \"\"}, \"colorscale\": [[0.0, \"#0d0887\"], [0.1111111111111111, \"#46039f\"], [0.2222222222222222, \"#7201a8\"], [0.3333333333333333, \"#9c179e\"], [0.4444444444444444, \"#bd3786\"], [0.5555555555555556, \"#d8576b\"], [0.6666666666666666, \"#ed7953\"], [0.7777777777777778, \"#fb9f3a\"], [0.8888888888888888, \"#fdca26\"], [1.0, \"#f0f921\"]], \"type\": \"contour\"}], \"contourcarpet\": [{\"colorbar\": {\"outlinewidth\": 0, \"ticks\": \"\"}, \"type\": \"contourcarpet\"}], \"heatmap\": [{\"colorbar\": {\"outlinewidth\": 0, \"ticks\": \"\"}, \"colorscale\": [[0.0, \"#0d0887\"], [0.1111111111111111, \"#46039f\"], [0.2222222222222222, \"#7201a8\"], [0.3333333333333333, \"#9c179e\"], [0.4444444444444444, \"#bd3786\"], [0.5555555555555556, \"#d8576b\"], [0.6666666666666666, \"#ed7953\"], [0.7777777777777778, \"#fb9f3a\"], [0.8888888888888888, \"#fdca26\"], [1.0, \"#f0f921\"]], \"type\": \"heatmap\"}], \"heatmapgl\": [{\"colorbar\": {\"outlinewidth\": 0, \"ticks\": \"\"}, \"colorscale\": [[0.0, \"#0d0887\"], [0.1111111111111111, \"#46039f\"], [0.2222222222222222, \"#7201a8\"], [0.3333333333333333, \"#9c179e\"], [0.4444444444444444, \"#bd3786\"], [0.5555555555555556, \"#d8576b\"], [0.6666666666666666, \"#ed7953\"], [0.7777777777777778, \"#fb9f3a\"], [0.8888888888888888, \"#fdca26\"], [1.0, \"#f0f921\"]], \"type\": \"heatmapgl\"}], \"histogram\": [{\"marker\": {\"colorbar\": {\"outlinewidth\": 0, \"ticks\": \"\"}}, \"type\": \"histogram\"}], \"histogram2d\": [{\"colorbar\": {\"outlinewidth\": 0, \"ticks\": \"\"}, \"colorscale\": [[0.0, \"#0d0887\"], [0.1111111111111111, \"#46039f\"], [0.2222222222222222, \"#7201a8\"], [0.3333333333333333, \"#9c179e\"], [0.4444444444444444, \"#bd3786\"], [0.5555555555555556, \"#d8576b\"], [0.6666666666666666, \"#ed7953\"], [0.7777777777777778, \"#fb9f3a\"], [0.8888888888888888, \"#fdca26\"], [1.0, \"#f0f921\"]], \"type\": \"histogram2d\"}], \"histogram2dcontour\": [{\"colorbar\": {\"outlinewidth\": 0, \"ticks\": \"\"}, \"colorscale\": [[0.0, \"#0d0887\"], [0.1111111111111111, \"#46039f\"], [0.2222222222222222, \"#7201a8\"], [0.3333333333333333, \"#9c179e\"], [0.4444444444444444, \"#bd3786\"], [0.5555555555555556, \"#d8576b\"], [0.6666666666666666, \"#ed7953\"], [0.7777777777777778, \"#fb9f3a\"], [0.8888888888888888, \"#fdca26\"], [1.0, \"#f0f921\"]], \"type\": \"histogram2dcontour\"}], \"mesh3d\": [{\"colorbar\": {\"outlinewidth\": 0, \"ticks\": \"\"}, \"type\": \"mesh3d\"}], \"parcoords\": [{\"line\": {\"colorbar\": {\"outlinewidth\": 0, \"ticks\": \"\"}}, \"type\": \"parcoords\"}], \"scatter\": [{\"marker\": {\"colorbar\": {\"outlinewidth\": 0, \"ticks\": \"\"}}, \"type\": \"scatter\"}], \"scatter3d\": [{\"line\": {\"colorbar\": {\"outlinewidth\": 0, \"ticks\": \"\"}}, \"marker\": {\"colorbar\": {\"outlinewidth\": 0, \"ticks\": \"\"}}, \"type\": \"scatter3d\"}], \"scattercarpet\": [{\"marker\": {\"colorbar\": {\"outlinewidth\": 0, \"ticks\": \"\"}}, \"type\": \"scattercarpet\"}], \"scattergeo\": [{\"marker\": {\"colorbar\": {\"outlinewidth\": 0, \"ticks\": \"\"}}, \"type\": \"scattergeo\"}], \"scattergl\": [{\"marker\": {\"colorbar\": {\"outlinewidth\": 0, \"ticks\": \"\"}}, \"type\": \"scattergl\"}], \"scattermapbox\": [{\"marker\": {\"colorbar\": {\"outlinewidth\": 0, \"ticks\": \"\"}}, \"type\": \"scattermapbox\"}], \"scatterpolar\": [{\"marker\": {\"colorbar\": {\"outlinewidth\": 0, \"ticks\": \"\"}}, \"type\": \"scatterpolar\"}], \"scatterpolargl\": [{\"marker\": {\"colorbar\": {\"outlinewidth\": 0, \"ticks\": \"\"}}, \"type\": \"scatterpolargl\"}], \"scatterternary\": [{\"marker\": {\"colorbar\": {\"outlinewidth\": 0, \"ticks\": \"\"}}, \"type\": \"scatterternary\"}], \"surface\": [{\"colorbar\": {\"outlinewidth\": 0, \"ticks\": \"\"}, \"colorscale\": [[0.0, \"#0d0887\"], [0.1111111111111111, \"#46039f\"], [0.2222222222222222, \"#7201a8\"], [0.3333333333333333, \"#9c179e\"], [0.4444444444444444, \"#bd3786\"], [0.5555555555555556, \"#d8576b\"], [0.6666666666666666, \"#ed7953\"], [0.7777777777777778, \"#fb9f3a\"], [0.8888888888888888, \"#fdca26\"], [1.0, \"#f0f921\"]], \"type\": \"surface\"}], \"table\": [{\"cells\": {\"fill\": {\"color\": \"#EBF0F8\"}, \"line\": {\"color\": \"white\"}}, \"header\": {\"fill\": {\"color\": \"#C8D4E3\"}, \"line\": {\"color\": \"white\"}}, \"type\": \"table\"}]}, \"layout\": {\"annotationdefaults\": {\"arrowcolor\": \"#2a3f5f\", \"arrowhead\": 0, \"arrowwidth\": 1}, \"colorscale\": {\"diverging\": [[0, \"#8e0152\"], [0.1, \"#c51b7d\"], [0.2, \"#de77ae\"], [0.3, \"#f1b6da\"], [0.4, \"#fde0ef\"], [0.5, \"#f7f7f7\"], [0.6, \"#e6f5d0\"], [0.7, \"#b8e186\"], [0.8, \"#7fbc41\"], [0.9, \"#4d9221\"], [1, \"#276419\"]], \"sequential\": [[0.0, \"#0d0887\"], [0.1111111111111111, \"#46039f\"], [0.2222222222222222, \"#7201a8\"], [0.3333333333333333, \"#9c179e\"], [0.4444444444444444, \"#bd3786\"], [0.5555555555555556, \"#d8576b\"], [0.6666666666666666, \"#ed7953\"], [0.7777777777777778, \"#fb9f3a\"], [0.8888888888888888, \"#fdca26\"], [1.0, \"#f0f921\"]], \"sequentialminus\": [[0.0, \"#0d0887\"], [0.1111111111111111, \"#46039f\"], [0.2222222222222222, \"#7201a8\"], [0.3333333333333333, \"#9c179e\"], [0.4444444444444444, \"#bd3786\"], [0.5555555555555556, \"#d8576b\"], [0.6666666666666666, \"#ed7953\"], [0.7777777777777778, \"#fb9f3a\"], [0.8888888888888888, \"#fdca26\"], [1.0, \"#f0f921\"]]}, \"colorway\": [\"#636efa\", \"#EF553B\", \"#00cc96\", \"#ab63fa\", \"#FFA15A\", \"#19d3f3\", \"#FF6692\", \"#B6E880\", \"#FF97FF\", \"#FECB52\"], \"font\": {\"color\": \"#2a3f5f\"}, \"geo\": {\"bgcolor\": \"white\", \"lakecolor\": \"white\", \"landcolor\": \"#E5ECF6\", \"showlakes\": true, \"showland\": true, \"subunitcolor\": \"white\"}, \"hoverlabel\": {\"align\": \"left\"}, \"hovermode\": \"closest\", \"mapbox\": {\"style\": \"light\"}, \"paper_bgcolor\": \"white\", \"plot_bgcolor\": \"#E5ECF6\", \"polar\": {\"angularaxis\": {\"gridcolor\": \"white\", \"linecolor\": \"white\", \"ticks\": \"\"}, \"bgcolor\": \"#E5ECF6\", \"radialaxis\": {\"gridcolor\": \"white\", \"linecolor\": \"white\", \"ticks\": \"\"}}, \"scene\": {\"xaxis\": {\"backgroundcolor\": \"#E5ECF6\", \"gridcolor\": \"white\", \"gridwidth\": 2, \"linecolor\": \"white\", \"showbackground\": true, \"ticks\": \"\", \"zerolinecolor\": \"white\"}, \"yaxis\": {\"backgroundcolor\": \"#E5ECF6\", \"gridcolor\": \"white\", \"gridwidth\": 2, \"linecolor\": \"white\", \"showbackground\": true, \"ticks\": \"\", \"zerolinecolor\": \"white\"}, \"zaxis\": {\"backgroundcolor\": \"#E5ECF6\", \"gridcolor\": \"white\", \"gridwidth\": 2, \"linecolor\": \"white\", \"showbackground\": true, \"ticks\": \"\", \"zerolinecolor\": \"white\"}}, \"shapedefaults\": {\"line\": {\"color\": \"#2a3f5f\"}}, \"ternary\": {\"aaxis\": {\"gridcolor\": \"white\", \"linecolor\": \"white\", \"ticks\": \"\"}, \"baxis\": {\"gridcolor\": \"white\", \"linecolor\": \"white\", \"ticks\": \"\"}, \"bgcolor\": \"#E5ECF6\", \"caxis\": {\"gridcolor\": \"white\", \"linecolor\": \"white\", \"ticks\": \"\"}}, \"title\": {\"x\": 0.05}, \"xaxis\": {\"automargin\": true, \"gridcolor\": \"white\", \"linecolor\": \"white\", \"ticks\": \"\", \"zerolinecolor\": \"white\", \"zerolinewidth\": 2}, \"yaxis\": {\"automargin\": true, \"gridcolor\": \"white\", \"linecolor\": \"white\", \"ticks\": \"\", \"zerolinecolor\": \"white\", \"zerolinewidth\": 2}}}},\n",
       "                        {\"responsive\": true}\n",
       "                    ).then(function(){\n",
       "                            \n",
       "var gd = document.getElementById('9656ded2-3f8c-45d1-bd91-bb922607f5ff');\n",
       "var x = new MutationObserver(function (mutations, observer) {{\n",
       "        var display = window.getComputedStyle(gd).display;\n",
       "        if (!display || display === 'none') {{\n",
       "            console.log([gd, 'removed!']);\n",
       "            Plotly.purge(gd);\n",
       "            observer.disconnect();\n",
       "        }}\n",
       "}});\n",
       "\n",
       "// Listen for the removal of the full notebook cells\n",
       "var notebookContainer = gd.closest('#notebook-container');\n",
       "if (notebookContainer) {{\n",
       "    x.observe(notebookContainer, {childList: true});\n",
       "}}\n",
       "\n",
       "// Listen for the clearing of the current output cell\n",
       "var outputEl = gd.closest('.output');\n",
       "if (outputEl) {{\n",
       "    x.observe(outputEl, {childList: true});\n",
       "}}\n",
       "\n",
       "                        })\n",
       "                };\n",
       "                });\n",
       "            </script>\n",
       "        </div>"
      ]
     },
     "metadata": {},
     "output_type": "display_data"
    }
   ],
   "source": [
    "# plotly implementation\n",
    "import plotly\n",
    "import plotly.graph_objects as go\n",
    "import plotly.figure_factory as ff\n",
    "\n",
    "fig = go.Figure(\n",
    "        data = [\n",
    "            go.Bar(\n",
    "                x=df['year'],\n",
    "                y=df['od_can_pc']\n",
    "                  ),\n",
    "            go.Bar(\n",
    "                x=df['year'],\n",
    "                y=df['od_world']\n",
    "                )\n",
    "              ]\n",
    "    )\n",
    "#fig.update_yaxes(autorange=\"reversed\")\n",
    "\n",
    "\n",
    "fig.show()"
   ]
  },
  {
   "cell_type": "code",
   "execution_count": 2,
   "metadata": {},
   "outputs": [
    {
     "name": "stdout",
     "output_type": "stream",
     "text": [
      "[\n",
      "  {\n",
      "    \"Unnamed: 0\": 0,\n",
      "    \"year\": 1961,\n",
      "    \"BCpc_Canada\": 26.26929358,\n",
      "    \"BCtot_Canada\": 480843667.7,\n",
      "    \"EFCpc_Canada\": 7.3863582789999995,\n",
      "    \"EFCtot_Canada\": 135202859.4,\n",
      "    \"earth_Canada\": 2.3705650080000003,\n",
      "    \"BCpc_World\": 3.115864047,\n",
      "    \"BCtot_World\": 9628985823,\n",
      "    \"EFCpc_World\": 2.281760499,\n",
      "    \"EFCtot_World\": 7051336451,\n",
      "    \"earth_World\": 0.732304255,\n",
      "    \"od_world\": 498,\n",
      "    \"od_can_pc\": 153.971732,\n",
      "    \"odate_world\": \"15:33.9\",\n",
      "    \"odate_can\": \"19:17.6\"\n",
      "  },\n",
      "  {\n",
      "    \"Unnamed: 0\": 1,\n",
      "    \"year\": 1962,\n",
      "    \"BCpc_Canada\": 26.61680823,\n",
      "    \"BCtot_Canada\": 496898535.7,\n",
      "    \"EFCpc_Canada\": 8.821524945,\n",
      "    \"EFCtot_Canada\": 164685517.1,\n",
      "    \"earth_Canada\": 2.867392292,\n",
      "    \"BCpc_World\": 3.076497405,\n",
      "    \"BCtot_World\": 9688628688,\n",
      "    \"EFCpc_World\": 2.3132996180000003,\n",
      "    \"EFCtot_World\": 7285145521,\n",
      "    \"earth_World\": 0.7519264,\n",
      "    \"od_world\": 485,\n",
      "    \"od_can_pc\": 127.29336029999999,\n",
      "    \"odate_world\": \"03:38.4\",\n",
      "    \"odate_can\": \"02:26.3\"\n",
      "  },\n",
      "  {\n",
      "    \"Unnamed: 0\": 2,\n",
      "    \"year\": 1963,\n",
      "    \"BCpc_Canada\": 26.57055639,\n",
      "    \"BCtot_Canada\": 505284279.0,\n",
      "    \"EFCpc_Canada\": 9.321593004,\n",
      "    \"EFCtot_Canada\": 177265930.4,\n",
      "    \"earth_Canada\": 3.0896344160000004,\n",
      "    \"BCpc_World\": 3.0170537189999997,\n",
      "    \"BCtot_World\": 9685557041,\n",
      "    \"EFCpc_World\": 2.35755723,\n",
      "    \"EFCtot_World\": 7568398195,\n",
      "    \"earth_World\": 0.781410425,\n",
      "    \"od_world\": 467,\n",
      "    \"od_can_pc\": 118.1369544,\n",
      "    \"odate_world\": \"29:37.0\",\n",
      "    \"odate_can\": \"17:12.9\"\n",
      "  },\n",
      "  {\n",
      "    \"Unnamed: 0\": 3,\n",
      "    \"year\": 1964,\n",
      "    \"BCpc_Canada\": 25.58946878,\n",
      "    \"BCtot_Canada\": 495391623.9,\n",
      "    \"EFCpc_Canada\": 8.738150156,\n",
      "    \"EFCtot_Canada\": 169163589.7,\n",
      "    \"earth_Canada\": 2.9381620839999996,\n",
      "    \"BCpc_World\": 2.974019099,\n",
      "    \"BCtot_World\": 9735957105,\n",
      "    \"EFCpc_World\": 2.408930706,\n",
      "    \"EFCtot_World\": 7886045992,\n",
      "    \"earth_World\": 0.809991673,\n",
      "    \"od_world\": 451,\n",
      "    \"od_can_pc\": 124.22731950000001,\n",
      "    \"odate_world\": \"55:24.7\",\n",
      "    \"odate_can\": \"27:20.4\"\n",
      "  },\n",
      "  {\n",
      "    \"Unnamed: 0\": 4,\n",
      "    \"year\": 1965,\n",
      "    \"BCpc_Canada\": 25.50897063,\n",
      "    \"BCtot_Canada\": 502626216.4,\n",
      "    \"EFCpc_Canada\": 9.266733862,\n",
      "    \"EFCtot_Canada\": 182590801.0,\n",
      "    \"earth_Canada\": 3.171051486,\n",
      "    \"BCpc_World\": 2.922290573,\n",
      "    \"BCtot_World\": 9759252373,\n",
      "    \"EFCpc_World\": 2.448154016,\n",
      "    \"EFCtot_World\": 8175837401,\n",
      "    \"earth_World\": 0.8377517409999999,\n",
      "    \"od_world\": 436,\n",
      "    \"od_can_pc\": 115.103776,\n",
      "    \"odate_world\": \"32:59.2\",\n",
      "    \"odate_can\": \"29:26.2\"\n",
      "  },\n",
      "  {\n",
      "    \"Unnamed: 0\": 5,\n",
      "    \"year\": 1966,\n",
      "    \"BCpc_Canada\": 25.41948614,\n",
      "    \"BCtot_Canada\": 509711536.0,\n",
      "    \"EFCpc_Canada\": 9.65003241,\n",
      "    \"EFCtot_Canada\": 193502449.9,\n",
      "    \"earth_Canada\": 3.3359572230000003,\n",
      "    \"BCpc_World\": 2.8927326589999995,\n",
      "    \"BCtot_World\": 9858780031,\n",
      "    \"EFCpc_World\": 2.502625483,\n",
      "    \"EFCtot_World\": 8529251714,\n",
      "    \"earth_World\": 0.865142333,\n",
      "    \"od_world\": 422,\n",
      "    \"od_can_pc\": 109.413873,\n",
      "    \"odate_world\": \"29:49.4\",\n",
      "    \"odate_can\": \"55:58.6\"\n",
      "  },\n",
      "  {\n",
      "    \"Unnamed: 0\": 6,\n",
      "    \"year\": 1967,\n",
      "    \"BCpc_Canada\": 24.35574166,\n",
      "    \"BCtot_Canada\": 496883911.6,\n",
      "    \"EFCpc_Canada\": 9.50738666,\n",
      "    \"EFCtot_Canada\": 193961142.3,\n",
      "    \"earth_Canada\": 3.337895133,\n",
      "    \"BCpc_World\": 2.848317962,\n",
      "    \"BCtot_World\": 9909440605,\n",
      "    \"EFCpc_World\": 2.52007454,\n",
      "    \"EFCtot_World\": 8767474779,\n",
      "    \"earth_World\": 0.8847588559999999,\n",
      "    \"od_world\": 413,\n",
      "    \"od_can_pc\": 109.3503497,\n",
      "    \"odate_world\": \"59:32.0\",\n",
      "    \"odate_can\": \"24:30.2\"\n",
      "  },\n",
      "  {\n",
      "    \"Unnamed: 0\": 7,\n",
      "    \"year\": 1968,\n",
      "    \"BCpc_Canada\": 24.12338995,\n",
      "    \"BCtot_Canada\": 500594123.6,\n",
      "    \"EFCpc_Canada\": 9.398846503,\n",
      "    \"EFCtot_Canada\": 195039227.0,\n",
      "    \"earth_Canada\": 3.3573031510000004,\n",
      "    \"BCpc_World\": 2.799522736,\n",
      "    \"BCtot_World\": 9943568815,\n",
      "    \"EFCpc_World\": 2.5650718319999997,\n",
      "    \"EFCtot_World\": 9110829263,\n",
      "    \"earth_World\": 0.91625326,\n",
      "    \"od_world\": 398,\n",
      "    \"od_can_pc\": 108.71821329999999,\n",
      "    \"odate_world\": \"40:24.2\",\n",
      "    \"odate_can\": \"14:13.6\"\n",
      "  },\n",
      "  {\n",
      "    \"Unnamed: 0\": 8,\n",
      "    \"year\": 1969,\n",
      "    \"BCpc_Canada\": 23.87275731,\n",
      "    \"BCtot_Canada\": 503767680.8,\n",
      "    \"EFCpc_Canada\": 9.972654274,\n",
      "    \"EFCtot_Canada\": 210444937.2,\n",
      "    \"earth_Canada\": 3.632108839,\n",
      "    \"BCpc_World\": 2.745692576,\n",
      "    \"BCtot_World\": 9955634168,\n",
      "    \"EFCpc_World\": 2.620499997,\n",
      "    \"EFCtot_World\": 9501685353,\n",
      "    \"earth_World\": 0.954404007,\n",
      "    \"od_world\": 382,\n",
      "    \"od_can_pc\": 100.49258329999999,\n",
      "    \"odate_world\": \"30:51.6\",\n",
      "    \"odate_can\": \"49:19.2\"\n",
      "  },\n",
      "  {\n",
      "    \"Unnamed: 0\": 9,\n",
      "    \"year\": 1970,\n",
      "    \"BCpc_Canada\": 23.12329106,\n",
      "    \"BCtot_Canada\": 496057008.1,\n",
      "    \"EFCpc_Canada\": 9.220008467000001,\n",
      "    \"EFCtot_Canada\": 197794068.4,\n",
      "    \"earth_Canada\": 3.406421557,\n",
      "    \"BCpc_World\": 2.706655155,\n",
      "    \"BCtot_World\": 10016193932,\n",
      "    \"EFCpc_World\": 2.722226635,\n",
      "    \"EFCtot_World\": 10073811315,\n",
      "    \"earth_World\": 1.005753034,\n",
      "    \"od_world\": 363,\n",
      "    \"od_can_pc\": 107.15056659999999,\n",
      "    \"odate_world\": \"53:49.2\",\n",
      "    \"odate_can\": \"36:49.0\"\n",
      "  },\n",
      "  {\n",
      "    \"Unnamed: 0\": 10,\n",
      "    \"year\": 1971,\n",
      "    \"BCpc_Canada\": 23.17791345,\n",
      "    \"BCtot_Canada\": 505378196.4,\n",
      "    \"EFCpc_Canada\": 9.380848282999999,\n",
      "    \"EFCtot_Canada\": 204542837.6,\n",
      "    \"earth_Canada\": 3.507816605,\n",
      "    \"BCpc_World\": 2.674269878,\n",
      "    \"BCtot_World\": 10097481463,\n",
      "    \"EFCpc_World\": 2.7593209869999997,\n",
      "    \"EFCtot_World\": 10418619348,\n",
      "    \"earth_World\": 1.031803488,\n",
      "    \"od_world\": 354,\n",
      "    \"od_can_pc\": 104.05333040000001,\n",
      "    \"odate_world\": \"59:11.4\",\n",
      "    \"odate_can\": \"16:47.7\"\n",
      "  },\n",
      "  {\n",
      "    \"Unnamed: 0\": 11,\n",
      "    \"year\": 1972,\n",
      "    \"BCpc_Canada\": 22.60971316,\n",
      "    \"BCtot_Canada\": 500945309.1,\n",
      "    \"EFCpc_Canada\": 9.244878174,\n",
      "    \"EFCtot_Canada\": 204831362.6,\n",
      "    \"earth_Canada\": 3.542185832,\n",
      "    \"BCpc_World\": 2.609935959,\n",
      "    \"BCtot_World\": 10052298842,\n",
      "    \"EFCpc_World\": 2.776382532,\n",
      "    \"EFCtot_World\": 10693362952,\n",
      "    \"earth_World\": 1.063774198,\n",
      "    \"od_world\": 343,\n",
      "    \"od_can_pc\": 103.0437186,\n",
      "    \"odate_world\": \"50:25.6\",\n",
      "    \"odate_can\": \"02:57.3\"\n",
      "  },\n",
      "  {\n",
      "    \"Unnamed: 0\": 12,\n",
      "    \"year\": 1973,\n",
      "    \"BCpc_Canada\": 22.2755835,\n",
      "    \"BCtot_Canada\": 501271893.2,\n",
      "    \"EFCpc_Canada\": 10.11600082,\n",
      "    \"EFCtot_Canada\": 227642381.7,\n",
      "    \"earth_Canada\": 3.909858543,\n",
      "    \"BCpc_World\": 2.58730609,\n",
      "    \"BCtot_World\": 10161748161,\n",
      "    \"EFCpc_World\": 2.867185619,\n",
      "    \"EFCtot_World\": 11260982623,\n",
      "    \"earth_World\": 1.108174108,\n",
      "    \"od_world\": 329,\n",
      "    \"od_can_pc\": 93.35376101,\n",
      "    \"odate_world\": \"53:51.2\",\n",
      "    \"odate_can\": \"29:25.0\"\n",
      "  },\n",
      "  {\n",
      "    \"Unnamed: 0\": 13,\n",
      "    \"year\": 1974,\n",
      "    \"BCpc_Canada\": 21.61045315,\n",
      "    \"BCtot_Canada\": 493543834.3,\n",
      "    \"EFCpc_Canada\": 9.723415642,\n",
      "    \"EFCtot_Canada\": 222065303.5,\n",
      "    \"earth_Canada\": 3.849420724,\n",
      "    \"BCpc_World\": 2.525942561,\n",
      "    \"BCtot_World\": 10112484747,\n",
      "    \"EFCpc_World\": 2.786187791,\n",
      "    \"EFCtot_World\": 11154358636,\n",
      "    \"earth_World\": 1.103028958,\n",
      "    \"od_world\": 331,\n",
      "    \"od_can_pc\": 94.81946147,\n",
      "    \"odate_world\": \"46:17.0\",\n",
      "    \"odate_can\": \"40:01.5\"\n",
      "  },\n",
      "  {\n",
      "    \"Unnamed: 0\": 14,\n",
      "    \"year\": 1975,\n",
      "    \"BCpc_Canada\": 21.78053729,\n",
      "    \"BCtot_Canada\": 504354460.7,\n",
      "    \"EFCpc_Canada\": 9.743636887000001,\n",
      "    \"EFCtot_Canada\": 225625596.9,\n",
      "    \"earth_Canada\": 3.9278986760000003,\n",
      "    \"BCpc_World\": 2.480623277,\n",
      "    \"BCtot_World\": 10118685604,\n",
      "    \"EFCpc_World\": 2.715939829,\n",
      "    \"EFCtot_World\": 11078555528,\n",
      "    \"earth_World\": 1.094861866,\n",
      "    \"od_world\": 333,\n",
      "    \"od_can_pc\": 92.92500394,\n",
      "    \"odate_world\": \"00:53.0\",\n",
      "    \"odate_can\": \"12:00.3\"\n",
      "  },\n",
      "  {\n",
      "    \"Unnamed: 0\": 15,\n",
      "    \"year\": 1976,\n",
      "    \"BCpc_Canada\": 21.426608399999996,\n",
      "    \"BCtot_Canada\": 502593239.9,\n",
      "    \"EFCpc_Canada\": 10.27679207,\n",
      "    \"EFCtot_Canada\": 241057573.2,\n",
      "    \"earth_Canada\": 4.18326481,\n",
      "    \"BCpc_World\": 2.456643922,\n",
      "    \"BCtot_World\": 10205611278,\n",
      "    \"EFCpc_World\": 2.801424743,\n",
      "    \"EFCtot_World\": 11637923791,\n",
      "    \"earth_World\": 1.140346274,\n",
      "    \"od_world\": 320,\n",
      "    \"od_can_pc\": 87.25242521,\n",
      "    \"odate_world\": \"52:54.4\",\n",
      "    \"odate_can\": \"03:29.5\"\n",
      "  },\n",
      "  {\n",
      "    \"Unnamed: 0\": 16,\n",
      "    \"year\": 1977,\n",
      "    \"BCpc_Canada\": 21.29201781,\n",
      "    \"BCtot_Canada\": 505506561.6,\n",
      "    \"EFCpc_Canada\": 9.928211902000001,\n",
      "    \"EFCtot_Canada\": 235711631.8,\n",
      "    \"earth_Canada\": 4.113071078,\n",
      "    \"BCpc_World\": 2.4138196769999998,\n",
      "    \"BCtot_World\": 10208526179,\n",
      "    \"EFCpc_World\": 2.8050484439999996,\n",
      "    \"EFCtot_World\": 11863115087,\n",
      "    \"earth_World\": 1.162078705,\n",
      "    \"od_world\": 314,\n",
      "    \"od_can_pc\": 88.74147640000001,\n",
      "    \"odate_world\": \"12:47.1\",\n",
      "    \"odate_can\": \"47:43.6\"\n",
      "  },\n",
      "  {\n",
      "    \"Unnamed: 0\": 17,\n",
      "    \"year\": 1978,\n",
      "    \"BCpc_Canada\": 21.02262487,\n",
      "    \"BCtot_Canada\": 504839407.7,\n",
      "    \"EFCpc_Canada\": 10.05416072,\n",
      "    \"EFCtot_Canada\": 241441617.0,\n",
      "    \"earth_Canada\": 4.176219249,\n",
      "    \"BCpc_World\": 2.4074791380000002,\n",
      "    \"BCtot_World\": 10362705052,\n",
      "    \"EFCpc_World\": 2.832762929,\n",
      "    \"EFCtot_World\": 12193279597,\n",
      "    \"earth_World\": 1.17665108,\n",
      "    \"od_world\": 310,\n",
      "    \"od_can_pc\": 87.39962589,\n",
      "    \"odate_world\": \"51:46.8\",\n",
      "    \"odate_can\": \"35:27.7\"\n",
      "  },\n",
      "  {\n",
      "    \"Unnamed: 0\": 18,\n",
      "    \"year\": 1979,\n",
      "    \"BCpc_Canada\": 20.62583993,\n",
      "    \"BCtot_Canada\": 500754141.9,\n",
      "    \"EFCpc_Canada\": 10.14002131,\n",
      "    \"EFCtot_Canada\": 246179437.3,\n",
      "    \"earth_Canada\": 4.299489397,\n",
      "    \"BCpc_World\": 2.3584245409999998,\n",
      "    \"BCtot_World\": 10331290960,\n",
      "    \"EFCpc_World\": 2.853641783,\n",
      "    \"EFCtot_World\": 12500623242,\n",
      "    \"earth_World\": 1.209977989,\n",
      "    \"od_world\": 302,\n",
      "    \"od_can_pc\": 84.89380163,\n",
      "    \"odate_world\": \"48:27.8\",\n",
      "    \"odate_can\": \"27:04.5\"\n",
      "  },\n",
      "  {\n",
      "    \"Unnamed: 0\": 19,\n",
      "    \"year\": 1980,\n",
      "    \"BCpc_Canada\": 20.389182,\n",
      "    \"BCtot_Canada\": 500297522.4,\n",
      "    \"EFCpc_Canada\": 9.642160432999999,\n",
      "    \"EFCtot_Canada\": 236593551.2,\n",
      "    \"earth_Canada\": 4.160252456,\n",
      "    \"BCpc_World\": 2.317686375,\n",
      "    \"BCtot_World\": 10333196111,\n",
      "    \"EFCpc_World\": 2.753612285,\n",
      "    \"EFCtot_World\": 12276736677,\n",
      "    \"earth_World\": 1.188086669,\n",
      "    \"od_world\": 307,\n",
      "    \"od_can_pc\": 87.73506028,\n",
      "    \"odate_world\": \"11:49.2\",\n",
      "    \"odate_can\": \"38:29.2\"\n",
      "  },\n",
      "  {\n",
      "    \"Unnamed: 0\": 20,\n",
      "    \"year\": 1981,\n",
      "    \"BCpc_Canada\": 20.57935361,\n",
      "    \"BCtot_Canada\": 510184805.3,\n",
      "    \"EFCpc_Canada\": 9.266478775,\n",
      "    \"EFCtot_Canada\": 229726198.3,\n",
      "    \"earth_Canada\": 4.030993414,\n",
      "    \"BCpc_World\": 2.298807719,\n",
      "    \"BCtot_World\": 10431644606,\n",
      "    \"EFCpc_World\": 2.671151472,\n",
      "    \"EFCtot_World\": 12121274025,\n",
      "    \"earth_World\": 1.161972552,\n",
      "    \"od_world\": 314,\n",
      "    \"od_can_pc\": 90.54839899,\n",
      "    \"odate_world\": \"54:39.8\",\n",
      "    \"odate_can\": \"09:41.7\"\n",
      "  },\n",
      "  {\n",
      "    \"Unnamed: 0\": 21,\n",
      "    \"year\": 1982,\n",
      "    \"BCpc_Canada\": 20.55229948,\n",
      "    \"BCtot_Canada\": 514648084.0,\n",
      "    \"EFCpc_Canada\": 8.672949827,\n",
      "    \"EFCtot_Canada\": 217178472.7,\n",
      "    \"earth_Canada\": 3.800233462,\n",
      "    \"BCpc_World\": 2.282215004,\n",
      "    \"BCtot_World\": 10541049017,\n",
      "    \"EFCpc_World\": 2.61626196,\n",
      "    \"EFCtot_World\": 12083927949,\n",
      "    \"earth_World\": 1.146369625,\n",
      "    \"od_world\": 318,\n",
      "    \"od_can_pc\": 96.04673071,\n",
      "    \"odate_world\": \"31:15.7\",\n",
      "    \"odate_can\": \"07:17.5\"\n",
      "  },\n",
      "  {\n",
      "    \"Unnamed: 0\": 22,\n",
      "    \"year\": 1983,\n",
      "    \"BCpc_Canada\": 20.01138485,\n",
      "    \"BCtot_Canada\": 506224016.0,\n",
      "    \"EFCpc_Canada\": 8.305136303,\n",
      "    \"EFCtot_Canada\": 210093378.5,\n",
      "    \"earth_Canada\": 3.7253174610000004,\n",
      "    \"BCpc_World\": 2.229376796,\n",
      "    \"BCtot_World\": 10481481887,\n",
      "    \"EFCpc_World\": 2.563092797,\n",
      "    \"EFCtot_World\": 12050460239,\n",
      "    \"earth_World\": 1.149690264,\n",
      "    \"od_world\": 317,\n",
      "    \"od_can_pc\": 97.97822705,\n",
      "    \"odate_world\": \"26:30.7\",\n",
      "    \"odate_can\": \"28:38.8\"\n",
      "  },\n",
      "  {\n",
      "    \"Unnamed: 0\": 23,\n",
      "    \"year\": 1984,\n",
      "    \"BCpc_Canada\": 19.62509973,\n",
      "    \"BCtot_Canada\": 501847147.4,\n",
      "    \"EFCpc_Canada\": 8.510712251000001,\n",
      "    \"EFCtot_Canada\": 217633373.8,\n",
      "    \"earth_Canada\": 3.8187469480000003,\n",
      "    \"BCpc_World\": 2.2286662,\n",
      "    \"BCtot_World\": 10667466194,\n",
      "    \"EFCpc_World\": 2.624210175,\n",
      "    \"EFCtot_World\": 12560740015,\n",
      "    \"earth_World\": 1.177480134,\n",
      "    \"od_world\": 310,\n",
      "    \"od_can_pc\": 95.58109112,\n",
      "    \"odate_world\": \"36:35.1\",\n",
      "    \"odate_can\": \"56:46.3\"\n",
      "  },\n",
      "  {\n",
      "    \"Unnamed: 0\": 24,\n",
      "    \"year\": 1985,\n",
      "    \"BCpc_Canada\": 19.65094048,\n",
      "    \"BCtot_Canada\": 508446476.6,\n",
      "    \"EFCpc_Canada\": 9.098602065,\n",
      "    \"EFCtot_Canada\": 235416323.5,\n",
      "    \"earth_Canada\": 4.139766267,\n",
      "    \"BCpc_World\": 2.197854052,\n",
      "    \"BCtot_World\": 10711857121,\n",
      "    \"EFCpc_World\": 2.612836292,\n",
      "    \"EFCtot_World\": 12734394487,\n",
      "    \"earth_World\": 1.188812464,\n",
      "    \"od_world\": 307,\n",
      "    \"od_can_pc\": 88.16922899,\n",
      "    \"odate_world\": \"41:41.8\",\n",
      "    \"odate_can\": \"03:41.4\"\n",
      "  },\n",
      "  {\n",
      "    \"Unnamed: 0\": 25,\n",
      "    \"year\": 1986,\n",
      "    \"BCpc_Canada\": 20.2362909,\n",
      "    \"BCtot_Canada\": 530354727.7,\n",
      "    \"EFCpc_Canada\": 9.588916957,\n",
      "    \"EFCtot_Canada\": 251307290.8,\n",
      "    \"earth_Canada\": 4.424311577,\n",
      "    \"BCpc_World\": 2.167324066,\n",
      "    \"BCtot_World\": 10757794755,\n",
      "    \"EFCpc_World\": 2.614716772,\n",
      "    \"EFCtot_World\": 12978494453,\n",
      "    \"earth_World\": 1.206426308,\n",
      "    \"od_world\": 303,\n",
      "    \"od_can_pc\": 82.49871051,\n",
      "    \"odate_world\": \"06:37.7\",\n",
      "    \"odate_can\": \"58:08.6\"\n",
      "  },\n",
      "  {\n",
      "    \"Unnamed: 0\": 26,\n",
      "    \"year\": 1987,\n",
      "    \"BCpc_Canada\": 19.74873991,\n",
      "    \"BCtot_Canada\": 524720085.2,\n",
      "    \"EFCpc_Canada\": 9.194840447,\n",
      "    \"EFCtot_Canada\": 244305078.9,\n",
      "    \"earth_Canada\": 4.313640801,\n",
      "    \"BCpc_World\": 2.131573042,\n",
      "    \"BCtot_World\": 10776465936,\n",
      "    \"EFCpc_World\": 2.6341384999999997,\n",
      "    \"EFCtot_World\": 13317245432,\n",
      "    \"earth_World\": 1.235772103,\n",
      "    \"od_world\": 295,\n",
      "    \"od_can_pc\": 84.61529757,\n",
      "    \"odate_world\": \"41:28.6\",\n",
      "    \"odate_can\": \"46:01.7\"\n",
      "  },\n",
      "  {\n",
      "    \"Unnamed: 0\": 27,\n",
      "    \"year\": 1988,\n",
      "    \"BCpc_Canada\": 18.71856555,\n",
      "    \"BCtot_Canada\": 504424175.2,\n",
      "    \"EFCpc_Canada\": 8.903076933,\n",
      "    \"EFCtot_Canada\": 239918343.5,\n",
      "    \"earth_Canada\": 4.280032425,\n",
      "    \"BCpc_World\": 2.080142403,\n",
      "    \"BCtot_World\": 10709737970,\n",
      "    \"EFCpc_World\": 2.642900165,\n",
      "    \"EFCtot_World\": 13607122146,\n",
      "    \"earth_World\": 1.270538095,\n",
      "    \"od_world\": 287,\n",
      "    \"od_can_pc\": 85.27972776,\n",
      "    \"odate_world\": \"43:14.0\",\n",
      "    \"odate_can\": \"42:48.5\"\n",
      "  },\n",
      "  {\n",
      "    \"Unnamed: 0\": 28,\n",
      "    \"year\": 1989,\n",
      "    \"BCpc_Canada\": 18.91355471,\n",
      "    \"BCtot_Canada\": 516835563.9,\n",
      "    \"EFCpc_Canada\": 9.922669657,\n",
      "    \"EFCtot_Canada\": 271148847.8,\n",
      "    \"earth_Canada\": 4.784461137,\n",
      "    \"BCpc_World\": 2.073936724,\n",
      "    \"BCtot_World\": 10868963148,\n",
      "    \"EFCpc_World\": 2.665710269,\n",
      "    \"EFCtot_World\": 13970281107,\n",
      "    \"earth_World\": 1.285338283,\n",
      "    \"od_world\": 284,\n",
      "    \"od_can_pc\": 76.28863305,\n",
      "    \"odate_world\": \"19:58.6\",\n",
      "    \"odate_can\": \"55:37.9\"\n",
      "  },\n",
      "  {\n",
      "    \"Unnamed: 0\": 29,\n",
      "    \"year\": 1990,\n",
      "    \"BCpc_Canada\": 18.99523273,\n",
      "    \"BCtot_Canada\": 526029266.5,\n",
      "    \"EFCpc_Canada\": 8.941579207,\n",
      "    \"EFCtot_Canada\": 247616463.5,\n",
      "    \"earth_Canada\": 4.322687482,\n",
      "    \"BCpc_World\": 2.068523168,\n",
      "    \"BCtot_World\": 11027172900,\n",
      "    \"EFCpc_World\": 2.6618752690000003,\n",
      "    \"EFCtot_World\": 14190306661,\n",
      "    \"earth_World\": 1.286848177,\n",
      "    \"od_world\": 284,\n",
      "    \"od_can_pc\": 84.43821153,\n",
      "    \"odate_world\": \"19:31.3\",\n",
      "    \"odate_can\": \"31:01.5\"\n",
      "  },\n",
      "  {\n",
      "    \"Unnamed: 0\": 30,\n",
      "    \"year\": 1991,\n",
      "    \"BCpc_Canada\": 18.72479387,\n",
      "    \"BCtot_Canada\": 525129346.9,\n",
      "    \"EFCpc_Canada\": 8.173378531000001,\n",
      "    \"EFCtot_Canada\": 229219128.4,\n",
      "    \"earth_Canada\": 4.047259448999999,\n",
      "    \"BCpc_World\": 2.019484699,\n",
      "    \"BCtot_World\": 10943102909,\n",
      "    \"EFCpc_World\": 2.609172049,\n",
      "    \"EFCtot_World\": 14138474523,\n",
      "    \"earth_World\": 1.291998919,\n",
      "    \"od_world\": 283,\n",
      "    \"od_can_pc\": 90.18448275,\n",
      "    \"odate_world\": \"11:33.7\",\n",
      "    \"odate_can\": \"25:39.3\"\n",
      "  },\n",
      "  {\n",
      "    \"Unnamed: 0\": 31,\n",
      "    \"year\": 1992,\n",
      "    \"BCpc_Canada\": 18.47433246,\n",
      "    \"BCtot_Canada\": 524381009.2,\n",
      "    \"EFCpc_Canada\": 8.12150486,\n",
      "    \"EFCtot_Canada\": 230523236.7,\n",
      "    \"earth_Canada\": 4.018884212,\n",
      "    \"BCpc_World\": 2.020835742,\n",
      "    \"BCtot_World\": 11123488259,\n",
      "    \"EFCpc_World\": 2.5880674669999997,\n",
      "    \"EFCtot_World\": 14245761155,\n",
      "    \"earth_World\": 1.2806916529999999,\n",
      "    \"od_world\": 285,\n",
      "    \"od_can_pc\": 90.82122816,\n",
      "    \"odate_world\": \"03:09.7\",\n",
      "    \"odate_can\": \"42:34.1\"\n",
      "  },\n",
      "  {\n",
      "    \"Unnamed: 0\": 32,\n",
      "    \"year\": 1993,\n",
      "    \"BCpc_Canada\": 18.50082164,\n",
      "    \"BCtot_Canada\": 531182654.7,\n",
      "    \"EFCpc_Canada\": 8.291582702000001,\n",
      "    \"EFCtot_Canada\": 238062124.9,\n",
      "    \"earth_Canada\": 4.184665547,\n",
      "    \"BCpc_World\": 1.981420644,\n",
      "    \"BCtot_World\": 11072376700,\n",
      "    \"EFCpc_World\": 2.541755151,\n",
      "    \"EFCtot_World\": 14203569249,\n",
      "    \"earth_World\": 1.282794322,\n",
      "    \"od_world\": 285,\n",
      "    \"od_can_pc\": 87.22321914,\n",
      "    \"odate_world\": \"50:53.9\",\n",
      "    \"odate_can\": \"21:26.1\"\n",
      "  },\n",
      "  {\n",
      "    \"Unnamed: 0\": 33,\n",
      "    \"year\": 1994,\n",
      "    \"BCpc_Canada\": 18.40599376,\n",
      "    \"BCtot_Canada\": 534256041.8,\n",
      "    \"EFCpc_Canada\": 8.002031344,\n",
      "    \"EFCtot_Canada\": 232268556.0,\n",
      "    \"earth_Canada\": 4.067437263,\n",
      "    \"BCpc_World\": 1.967339833,\n",
      "    \"BCtot_World\": 11155446400,\n",
      "    \"EFCpc_World\": 2.5406917559999997,\n",
      "    \"EFCtot_World\": 14406534010,\n",
      "    \"earth_World\": 1.291435122,\n",
      "    \"od_world\": 283,\n",
      "    \"od_can_pc\": 89.737094,\n",
      "    \"odate_world\": \"09:07.3\",\n",
      "    \"odate_can\": \"41:24.9\"\n",
      "  },\n",
      "  {\n",
      "    \"Unnamed: 0\": 34,\n",
      "    \"year\": 1995,\n",
      "    \"BCpc_Canada\": 18.19028573,\n",
      "    \"BCtot_Canada\": 533522892.3,\n",
      "    \"EFCpc_Canada\": 8.30902276,\n",
      "    \"EFCtot_Canada\": 243704465.2,\n",
      "    \"earth_Canada\": 4.304186444,\n",
      "    \"BCpc_World\": 1.9304514030000002,\n",
      "    \"BCtot_World\": 11102933332,\n",
      "    \"EFCpc_World\": 2.547418054,\n",
      "    \"EFCtot_World\": 14651409981,\n",
      "    \"earth_World\": 1.31959709,\n",
      "    \"od_world\": 277,\n",
      "    \"od_can_pc\": 84.80115924,\n",
      "    \"odate_world\": \"23:05.0\",\n",
      "    \"odate_can\": \"13:40.2\"\n",
      "  },\n",
      "  {\n",
      "    \"Unnamed: 0\": 35,\n",
      "    \"year\": 1996,\n",
      "    \"BCpc_Canada\": 18.24972984,\n",
      "    \"BCtot_Canada\": 540595315.2,\n",
      "    \"EFCpc_Canada\": 8.689558623,\n",
      "    \"EFCtot_Canada\": 257402971.1,\n",
      "    \"earth_Canada\": 4.490406194,\n",
      "    \"BCpc_World\": 1.9351386590000001,\n",
      "    \"BCtot_World\": 11284877201,\n",
      "    \"EFCpc_World\": 2.57444734,\n",
      "    \"EFCtot_World\": 15013057002,\n",
      "    \"earth_World\": 1.330368409,\n",
      "    \"od_world\": 274,\n",
      "    \"od_can_pc\": 81.28440596,\n",
      "    \"odate_world\": \"38:11.7\",\n",
      "    \"odate_can\": \"49:32.7\"\n",
      "  },\n",
      "  {\n",
      "    \"Unnamed: 0\": 36,\n",
      "    \"year\": 1997,\n",
      "    \"BCpc_Canada\": 17.79945891,\n",
      "    \"BCtot_Canada\": 532260765.8,\n",
      "    \"EFCpc_Canada\": 8.562096569,\n",
      "    \"EFCtot_Canada\": 256034079.4,\n",
      "    \"earth_Canada\": 4.468039093,\n",
      "    \"BCpc_World\": 1.91629849,\n",
      "    \"BCtot_World\": 11326416369,\n",
      "    \"EFCpc_World\": 2.57917086,\n",
      "    \"EFCtot_World\": 15244360885,\n",
      "    \"earth_World\": 1.345912901,\n",
      "    \"od_world\": 271,\n",
      "    \"od_can_pc\": 81.69131747,\n",
      "    \"odate_world\": \"35:50.6\",\n",
      "    \"odate_can\": \"35:29.8\"\n",
      "  },\n",
      "  {\n",
      "    \"Unnamed: 0\": 37,\n",
      "    \"year\": 1998,\n",
      "    \"BCpc_Canada\": 17.88961621,\n",
      "    \"BCtot_Canada\": 539874619.9,\n",
      "    \"EFCpc_Canada\": 8.4925942,\n",
      "    \"EFCtot_Canada\": 256290353.7,\n",
      "    \"earth_Canada\": 4.4609262030000005,\n",
      "    \"BCpc_World\": 1.903773749,\n",
      "    \"BCtot_World\": 11401415415,\n",
      "    \"EFCpc_World\": 2.557445585,\n",
      "    \"EFCtot_World\": 15316147764,\n",
      "    \"earth_World\": 1.343355841,\n",
      "    \"od_world\": 272,\n",
      "    \"od_can_pc\": 81.82157323,\n",
      "    \"odate_world\": \"59:12.9\",\n",
      "    \"odate_can\": \"43:03.9\"\n",
      "  },\n",
      "  {\n",
      "    \"Unnamed: 0\": 38,\n",
      "    \"year\": 1999,\n",
      "    \"BCpc_Canada\": 17.91504285,\n",
      "    \"BCtot_Canada\": 545582930.4,\n",
      "    \"EFCpc_Canada\": 9.011460436,\n",
      "    \"EFCtot_Canada\": 274434118.5,\n",
      "    \"earth_Canada\": 4.779658997,\n",
      "    \"BCpc_World\": 1.8853772709999999,\n",
      "    \"BCtot_World\": 11438338804,\n",
      "    \"EFCpc_World\": 2.535031848,\n",
      "    \"EFCtot_World\": 15379702330,\n",
      "    \"earth_World\": 1.344575373,\n",
      "    \"od_world\": 271,\n",
      "    \"od_can_pc\": 76.36528050000001,\n",
      "    \"odate_world\": \"04:14.5\",\n",
      "    \"odate_can\": \"46:00.2\"\n",
      "  },\n",
      "  {\n",
      "    \"Unnamed: 0\": 39,\n",
      "    \"year\": 2000,\n",
      "    \"BCpc_Canada\": 17.62718688,\n",
      "    \"BCtot_Canada\": 541785704.2,\n",
      "    \"EFCpc_Canada\": 9.102817624,\n",
      "    \"EFCtot_Canada\": 279782389.0,\n",
      "    \"earth_Canada\": 4.895951884,\n",
      "    \"BCpc_World\": 1.8592538980000002,\n",
      "    \"BCtot_World\": 11425133794,\n",
      "    \"EFCpc_World\": 2.5574499459999998,\n",
      "    \"EFCtot_World\": 15715547823,\n",
      "    \"earth_World\": 1.375524854,\n",
      "    \"od_world\": 265,\n",
      "    \"od_can_pc\": 74.55138625,\n",
      "    \"odate_world\": \"28:52.6\",\n",
      "    \"odate_can\": \"13:59.8\"\n",
      "  },\n",
      "  {\n",
      "    \"Unnamed: 0\": 40,\n",
      "    \"year\": 2001,\n",
      "    \"BCpc_Canada\": 16.92129384,\n",
      "    \"BCtot_Canada\": 524978051.7,\n",
      "    \"EFCpc_Canada\": 8.459570276,\n",
      "    \"EFCtot_Canada\": 262455623.3,\n",
      "    \"earth_Canada\": 4.583154955,\n",
      "    \"BCpc_World\": 1.84579626,\n",
      "    \"BCtot_World\": 11487146905,\n",
      "    \"EFCpc_World\": 2.551516727,\n",
      "    \"EFCtot_World\": 15879139818,\n",
      "    \"earth_World\": 1.382339309,\n",
      "    \"od_world\": 264,\n",
      "    \"od_can_pc\": 79.63946312,\n",
      "    \"odate_world\": \"04:54.2\",\n",
      "    \"odate_can\": \"20:49.6\"\n",
      "  },\n",
      "  {\n",
      "    \"Unnamed: 0\": 41,\n",
      "    \"year\": 2002,\n",
      "    \"BCpc_Canada\": 16.39695434,\n",
      "    \"BCtot_Canada\": 513567373.5,\n",
      "    \"EFCpc_Canada\": 8.384844911,\n",
      "    \"EFCtot_Canada\": 262620892.3,\n",
      "    \"earth_Canada\": 4.607567631,\n",
      "    \"BCpc_World\": 1.8197985540000001,\n",
      "    \"BCtot_World\": 11468643455,\n",
      "    \"EFCpc_World\": 2.544100242,\n",
      "    \"EFCtot_World\": 16033300070,\n",
      "    \"earth_World\": 1.398012015,\n",
      "    \"od_world\": 261,\n",
      "    \"od_can_pc\": 79.21750243,\n",
      "    \"odate_world\": \"02:27.8\",\n",
      "    \"odate_can\": \"13:12.2\"\n",
      "  },\n",
      "  {\n",
      "    \"Unnamed: 0\": 42,\n",
      "    \"year\": 2003,\n",
      "    \"BCpc_Canada\": 16.86153787,\n",
      "    \"BCtot_Canada\": 533293360.7,\n",
      "    \"EFCpc_Canada\": 9.044446284,\n",
      "    \"EFCtot_Canada\": 286055945.2,\n",
      "    \"earth_Canada\": 5.043058033,\n",
      "    \"BCpc_World\": 1.793444815,\n",
      "    \"BCtot_World\": 11444706680,\n",
      "    \"EFCpc_World\": 2.603618397,\n",
      "    \"EFCtot_World\": 16614753874,\n",
      "    \"earth_World\": 1.451741573,\n",
      "    \"od_world\": 251,\n",
      "    \"od_can_pc\": 72.37672016,\n",
      "    \"odate_world\": \"07:57.9\",\n",
      "    \"odate_can\": \"02:28.6\"\n",
      "  },\n",
      "  {\n",
      "    \"Unnamed: 0\": 43,\n",
      "    \"year\": 2004,\n",
      "    \"BCpc_Canada\": 16.72312244,\n",
      "    \"BCtot_Canada\": 534293734.5,\n",
      "    \"EFCpc_Canada\": 9.338361177000001,\n",
      "    \"EFCtot_Canada\": 298355040.2,\n",
      "    \"earth_Canada\": 5.158961949,\n",
      "    \"BCpc_World\": 1.810124066,\n",
      "    \"BCtot_World\": 11695881333,\n",
      "    \"EFCpc_World\": 2.7119559019999997,\n",
      "    \"EFCtot_World\": 17522953217,\n",
      "    \"earth_World\": 1.498215483,\n",
      "    \"od_world\": 244,\n",
      "    \"od_can_pc\": 70.75066721,\n",
      "    \"odate_world\": \"57:18.3\",\n",
      "    \"odate_can\": \"00:57.6\"\n",
      "  },\n",
      "  {\n",
      "    \"Unnamed: 0\": 44,\n",
      "    \"year\": 2005,\n",
      "    \"BCpc_Canada\": 16.66845659,\n",
      "    \"BCtot_Canada\": 538191126.3,\n",
      "    \"EFCpc_Canada\": 9.496508492,\n",
      "    \"EFCtot_Canada\": 306623266.2,\n",
      "    \"earth_Canada\": 5.352500211000001,\n",
      "    \"BCpc_World\": 1.7742191719999998,\n",
      "    \"BCtot_World\": 11607225698,\n",
      "    \"EFCpc_World\": 2.74053125,\n",
      "    \"EFCtot_World\": 17928992553,\n",
      "    \"earth_World\": 1.54464076,\n",
      "    \"od_world\": 236,\n",
      "    \"od_can_pc\": 68.19243075,\n",
      "    \"odate_world\": \"13:19.2\",\n",
      "    \"odate_can\": \"37:06.0\"\n",
      "  },\n",
      "  {\n",
      "    \"Unnamed: 0\": 45,\n",
      "    \"year\": 2006,\n",
      "    \"BCpc_Canada\": 16.3911659,\n",
      "    \"BCtot_Canada\": 535097806.3,\n",
      "    \"EFCpc_Canada\": 8.796729136,\n",
      "    \"EFCtot_Canada\": 287173621.0,\n",
      "    \"earth_Canada\": 5.007595515,\n",
      "    \"BCpc_World\": 1.756677254,\n",
      "    \"BCtot_World\": 11635966626,\n",
      "    \"EFCpc_World\": 2.77824401,\n",
      "    \"EFCtot_World\": 18402666030,\n",
      "    \"earth_World\": 1.5815335480000001,\n",
      "    \"od_world\": 231,\n",
      "    \"od_can_pc\": 72.88927369,\n",
      "    \"odate_world\": \"55:45.8\",\n",
      "    \"odate_can\": \"20:33.2\"\n",
      "  },\n",
      "  {\n",
      "    \"Unnamed: 0\": 46,\n",
      "    \"year\": 2007,\n",
      "    \"BCpc_Canada\": 16.16323844,\n",
      "    \"BCtot_Canada\": 533708491.6,\n",
      "    \"EFCpc_Canada\": 8.659373112,\n",
      "    \"EFCtot_Canada\": 285931620.7,\n",
      "    \"earth_Canada\": 4.972839034,\n",
      "    \"BCpc_World\": 1.741333885,\n",
      "    \"BCtot_World\": 11678116391,\n",
      "    \"EFCpc_World\": 2.820555376,\n",
      "    \"EFCtot_World\": 18915824757,\n",
      "    \"earth_World\": 1.6197671230000001,\n",
      "    \"od_world\": 225,\n",
      "    \"od_can_pc\": 73.39871601,\n",
      "    \"odate_world\": \"11:09.8\",\n",
      "    \"odate_can\": \"34:09.1\"\n",
      "  },\n",
      "  {\n",
      "    \"Unnamed: 0\": 47,\n",
      "    \"year\": 2008,\n",
      "    \"BCpc_Canada\": 16.34246116,\n",
      "    \"BCtot_Canada\": 545911743.9,\n",
      "    \"EFCpc_Canada\": 8.551235189,\n",
      "    \"EFCtot_Canada\": 285649735.9,\n",
      "    \"earth_Canada\": 4.8945416669999995,\n",
      "    \"BCpc_World\": 1.747096209,\n",
      "    \"BCtot_World\": 11862381425,\n",
      "    \"EFCpc_World\": 2.821491861,\n",
      "    \"EFCtot_World\": 19157285022,\n",
      "    \"earth_World\": 1.6149607830000001,\n",
      "    \"od_world\": 226,\n",
      "    \"od_can_pc\": 74.57286603,\n",
      "    \"odate_world\": \"16:44.9\",\n",
      "    \"odate_can\": \"44:55.6\"\n",
      "  },\n",
      "  {\n",
      "    \"Unnamed: 0\": 48,\n",
      "    \"year\": 2009,\n",
      "    \"BCpc_Canada\": 15.95334312,\n",
      "    \"BCtot_Canada\": 539060285.7,\n",
      "    \"EFCpc_Canada\": 7.975056004,\n",
      "    \"EFCtot_Canada\": 269475553.6,\n",
      "    \"earth_Canada\": 4.640226792,\n",
      "    \"BCpc_World\": 1.718678065,\n",
      "    \"BCtot_World\": 11813746161,\n",
      "    \"EFCpc_World\": 2.73754652,\n",
      "    \"EFCtot_World\": 18817185753,\n",
      "    \"earth_World\": 1.592821003,\n",
      "    \"od_world\": 229,\n",
      "    \"od_can_pc\": 78.65994839,\n",
      "    \"odate_world\": \"40:32.0\",\n",
      "    \"odate_can\": \"50:19.5\"\n",
      "  },\n",
      "  {\n",
      "    \"Unnamed: 0\": 49,\n",
      "    \"year\": 2010,\n",
      "    \"BCpc_Canada\": 15.65337847,\n",
      "    \"BCtot_Canada\": 534855580.6,\n",
      "    \"EFCpc_Canada\": 8.335679949,\n",
      "    \"EFCtot_Canada\": 284819341.0,\n",
      "    \"earth_Canada\": 4.901040437,\n",
      "    \"BCpc_World\": 1.700798036,\n",
      "    \"BCtot_World\": 11834441869,\n",
      "    \"EFCpc_World\": 2.841286695,\n",
      "    \"EFCtot_World\": 19770153004,\n",
      "    \"earth_World\": 1.670560899,\n",
      "    \"od_world\": 218,\n",
      "    \"od_can_pc\": 74.47398256,\n",
      "    \"odate_world\": \"44:54.7\",\n",
      "    \"odate_can\": \"22:32.1\"\n",
      "  },\n",
      "  {\n",
      "    \"Unnamed: 0\": 50,\n",
      "    \"year\": 2011,\n",
      "    \"BCpc_Canada\": 15.46784205,\n",
      "    \"BCtot_Canada\": 534237633.5,\n",
      "    \"EFCpc_Canada\": 8.391235522999999,\n",
      "    \"EFCtot_Canada\": 289821540.4,\n",
      "    \"earth_Canada\": 4.958694268,\n",
      "    \"BCpc_World\": 1.692226838,\n",
      "    \"BCtot_World\": 11918370545,\n",
      "    \"EFCpc_World\": 2.866579689,\n",
      "    \"EFCtot_World\": 20189345116,\n",
      "    \"earth_World\": 1.693968931,\n",
      "    \"od_world\": 215,\n",
      "    \"od_can_pc\": 73.60808718,\n",
      "    \"odate_world\": \"17:18.2\",\n",
      "    \"odate_can\": \"35:38.7\"\n",
      "  },\n",
      "  {\n",
      "    \"Unnamed: 0\": 51,\n",
      "    \"year\": 2012,\n",
      "    \"BCpc_Canada\": 15.45252151,\n",
      "    \"BCtot_Canada\": 539303805.3,\n",
      "    \"EFCpc_Canada\": 8.271600506,\n",
      "    \"EFCtot_Canada\": 288684641.3,\n",
      "    \"earth_Canada\": 4.963606824,\n",
      "    \"BCpc_World\": 1.66644958,\n",
      "    \"BCtot_World\": 11878752565,\n",
      "    \"EFCpc_World\": 2.822215214,\n",
      "    \"EFCtot_World\": 20117249579,\n",
      "    \"earth_World\": 1.6935497169999998,\n",
      "    \"od_world\": 216,\n",
      "    \"od_can_pc\": 73.53523616,\n",
      "    \"odate_world\": \"34:10.4\",\n",
      "    \"odate_can\": \"50:44.4\"\n",
      "  },\n",
      "  {\n",
      "    \"Unnamed: 0\": 52,\n",
      "    \"year\": 2013,\n",
      "    \"BCpc_Canada\": 15.87902217,\n",
      "    \"BCtot_Canada\": 559822866.2,\n",
      "    \"EFCpc_Canada\": 8.74813283,\n",
      "    \"EFCtot_Canada\": 308419797.0,\n",
      "    \"earth_Canada\": 5.224799548,\n",
      "    \"BCpc_World\": 1.67434803,\n",
      "    \"BCtot_World\": 12077792310,\n",
      "    \"EFCpc_World\": 2.8518055139999996,\n",
      "    \"EFCtot_World\": 20571289466,\n",
      "    \"earth_World\": 1.703233415,\n",
      "    \"od_world\": 214,\n",
      "    \"od_can_pc\": 69.85913941,\n",
      "    \"odate_world\": \"09:40.8\",\n",
      "    \"odate_can\": \"37:09.6\"\n",
      "  },\n",
      "  {\n",
      "    \"Unnamed: 0\": 53,\n",
      "    \"year\": 2014,\n",
      "    \"BCpc_Canada\": 15.21238097,\n",
      "    \"BCtot_Canada\": 541632248.7,\n",
      "    \"EFCpc_Canada\": 7.765583843,\n",
      "    \"EFCtot_Canada\": 276491277.0,\n",
      "    \"earth_Canada\": 4.661197006,\n",
      "    \"BCpc_World\": 1.6660063569999999,\n",
      "    \"BCtot_World\": 12159264095,\n",
      "    \"EFCpc_World\": 2.824152597,\n",
      "    \"EFCtot_World\": 20611944995,\n",
      "    \"earth_World\": 1.6951631580000002,\n",
      "    \"od_world\": 215,\n",
      "    \"od_can_pc\": 78.30606591,\n",
      "    \"odate_world\": \"38:31.3\",\n",
      "    \"odate_can\": \"20:44.1\"\n",
      "  },\n",
      "  {\n",
      "    \"Unnamed: 0\": 54,\n",
      "    \"year\": 2015,\n",
      "    \"BCpc_Canada\": 15.16347343,\n",
      "    \"BCtot_Canada\": 545122308.8,\n",
      "    \"EFCpc_Canada\": 7.757967037,\n",
      "    \"EFCtot_Canada\": 278896581.5,\n",
      "    \"earth_Canada\": 4.714809385,\n",
      "    \"BCpc_World\": 1.6454465930000002,\n",
      "    \"BCtot_World\": 12148348648,\n",
      "    \"EFCpc_World\": 2.777220606,\n",
      "    \"EFCtot_World\": 20504244731,\n",
      "    \"earth_World\": 1.687821786,\n",
      "    \"od_world\": 216,\n",
      "    \"od_can_pc\": 77.41564297,\n",
      "    \"odate_world\": \"07:19.6\",\n",
      "    \"odate_can\": \"58:31.6\"\n",
      "  },\n",
      "  {\n",
      "    \"Unnamed: 0\": 55,\n",
      "    \"year\": 2016,\n",
      "    \"BCpc_Canada\": 15.12239205,\n",
      "    \"BCtot_Canada\": 548788594.7,\n",
      "    \"EFCpc_Canada\": 7.739934845,\n",
      "    \"EFCtot_Canada\": 280880693.6,\n",
      "    \"earth_Canada\": 4.749152613,\n",
      "    \"BCpc_World\": 1.629750711,\n",
      "    \"BCtot_World\": 12169283366,\n",
      "    \"EFCpc_World\": 2.746635845,\n",
      "    \"EFCtot_World\": 20509032352,\n",
      "    \"earth_World\": 1.6853104140000001,\n",
      "    \"od_world\": 217,\n",
      "    \"od_can_pc\": 76.85581614,\n",
      "    \"odate_world\": \"51:08.5\",\n",
      "    \"odate_can\": \"32:22.5\"\n",
      "  }\n",
      "]\n"
     ]
    }
   ],
   "source": [
    "import pandas as pd\n",
    "import json\n",
    "\n",
    "df = pd.read_csv(\"~/code/footprint/static/footprintnetwork.csv\")\n",
    "chart_data = json.dumps(df.to_dict(orient='records'), indent=2)\n",
    "print(chart_data)"
   ]
  },
  {
   "cell_type": "code",
   "execution_count": null,
   "metadata": {},
   "outputs": [],
   "source": []
  },
  {
   "cell_type": "code",
   "execution_count": 7,
   "metadata": {},
   "outputs": [],
   "source": [
    "months = \n",
    "['Jan','Feb','Mar','Apr','May','Jun',\n",
    " 'Jul','Aug','Sep','Oct','Nov','Dec']\n",
    "\n",
    "values = [1, 2, 3, 4, 5, 6, 7, 8, 9, 10, 11, 12]\n",
    "df = pd.DataFrame({'month':months, 'value':values})"
   ]
  },
  {
   "cell_type": "code",
   "execution_count": 16,
   "metadata": {},
   "outputs": [],
   "source": []
  },
  {
   "cell_type": "code",
   "execution_count": 17,
   "metadata": {},
   "outputs": [
    {
     "data": {
      "text/html": [
       "<div>\n",
       "<style scoped>\n",
       "    .dataframe tbody tr th:only-of-type {\n",
       "        vertical-align: middle;\n",
       "    }\n",
       "\n",
       "    .dataframe tbody tr th {\n",
       "        vertical-align: top;\n",
       "    }\n",
       "\n",
       "    .dataframe thead th {\n",
       "        text-align: right;\n",
       "    }\n",
       "</style>\n",
       "<table border=\"1\" class=\"dataframe\">\n",
       "  <thead>\n",
       "    <tr style=\"text-align: right;\">\n",
       "      <th></th>\n",
       "      <th>month</th>\n",
       "      <th>value</th>\n",
       "    </tr>\n",
       "  </thead>\n",
       "  <tbody>\n",
       "    <tr>\n",
       "      <th>0</th>\n",
       "      <td>Jan</td>\n",
       "      <td>1</td>\n",
       "    </tr>\n",
       "    <tr>\n",
       "      <th>1</th>\n",
       "      <td>Feb</td>\n",
       "      <td>2</td>\n",
       "    </tr>\n",
       "    <tr>\n",
       "      <th>2</th>\n",
       "      <td>Mar</td>\n",
       "      <td>3</td>\n",
       "    </tr>\n",
       "    <tr>\n",
       "      <th>3</th>\n",
       "      <td>Apr</td>\n",
       "      <td>4</td>\n",
       "    </tr>\n",
       "    <tr>\n",
       "      <th>4</th>\n",
       "      <td>May</td>\n",
       "      <td>5</td>\n",
       "    </tr>\n",
       "    <tr>\n",
       "      <th>5</th>\n",
       "      <td>Jun</td>\n",
       "      <td>6</td>\n",
       "    </tr>\n",
       "    <tr>\n",
       "      <th>6</th>\n",
       "      <td>Jul</td>\n",
       "      <td>7</td>\n",
       "    </tr>\n",
       "    <tr>\n",
       "      <th>7</th>\n",
       "      <td>Aug</td>\n",
       "      <td>8</td>\n",
       "    </tr>\n",
       "    <tr>\n",
       "      <th>8</th>\n",
       "      <td>Sep</td>\n",
       "      <td>9</td>\n",
       "    </tr>\n",
       "    <tr>\n",
       "      <th>9</th>\n",
       "      <td>Oct</td>\n",
       "      <td>10</td>\n",
       "    </tr>\n",
       "    <tr>\n",
       "      <th>10</th>\n",
       "      <td>Nov</td>\n",
       "      <td>11</td>\n",
       "    </tr>\n",
       "    <tr>\n",
       "      <th>11</th>\n",
       "      <td>Dec</td>\n",
       "      <td>12</td>\n",
       "    </tr>\n",
       "  </tbody>\n",
       "</table>\n",
       "</div>"
      ],
      "text/plain": [
       "   month  value\n",
       "0    Jan      1\n",
       "1    Feb      2\n",
       "2    Mar      3\n",
       "3    Apr      4\n",
       "4    May      5\n",
       "5    Jun      6\n",
       "6    Jul      7\n",
       "7    Aug      8\n",
       "8    Sep      9\n",
       "9    Oct     10\n",
       "10   Nov     11\n",
       "11   Dec     12"
      ]
     },
     "execution_count": 17,
     "metadata": {},
     "output_type": "execute_result"
    }
   ],
   "source": [
    "df"
   ]
  },
  {
   "cell_type": "code",
   "execution_count": null,
   "metadata": {},
   "outputs": [],
   "source": []
  }
 ],
 "metadata": {
  "kernelspec": {
   "display_name": "Python [conda env:root]",
   "language": "python",
   "name": "conda-root-py"
  },
  "language_info": {
   "codemirror_mode": {
    "name": "ipython",
    "version": 3
   },
   "file_extension": ".py",
   "mimetype": "text/x-python",
   "name": "python",
   "nbconvert_exporter": "python",
   "pygments_lexer": "ipython3",
   "version": "3.7.3"
  }
 },
 "nbformat": 4,
 "nbformat_minor": 2
}
