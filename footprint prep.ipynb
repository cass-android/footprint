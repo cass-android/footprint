{
 "cells": [
  {
   "cell_type": "markdown",
   "metadata": {},
   "source": [
    "For scraping data from the Global Footprint Network.\n",
    "https://www.footprintnetwork.org/\n",
    "\n",
    "Countrycode Canada: 33\n",
    "\n",
    "data types: \n",
    "biocapacity per capita (gha / person): 'BCpc'\n",
    "biocapacity (gha): 'BCtot'\n",
    "ecological footprint per capita (gha / person): 'EFCpc'\n",
    "ecological footprint (gha): 'EFCtot'\n",
    "number of earths: 'earth'\n"
   ]
  },
  {
   "cell_type": "code",
   "execution_count": 1,
   "metadata": {},
   "outputs": [],
   "source": [
    "import pandas as pd\n",
    "import requests\n",
    "import json"
   ]
  },
  {
   "cell_type": "code",
   "execution_count": 2,
   "metadata": {},
   "outputs": [],
   "source": [
    "def download(country, datastring): \n",
    "    \n",
    "    countrycode = {'Canada':33,\n",
    "                    'World':5001}[country]\n",
    "    headers = {\n",
    "        'Accept': 'application/json',\n",
    "    }\n",
    "    key = '13CMLmdbBei8dBCKf4tv3Gq7u2Vkg89so04K2reij4tm0l8o17r6'\n",
    "    url_base = 'https://api.footprintnetwork.org/v1/data/'\n",
    "\n",
    "    yearout = []\n",
    "    valueout = []\n",
    "    years = list(range(1961,2017))\n",
    "\n",
    "    for year in years:\n",
    "        url = url_base+str(countrycode)+'/'+str(year)+'/'+datastring\n",
    "        r = requests.get(url, headers=headers, auth=('any-user-name', key))\n",
    "        yearout.append((json.loads(r.content))[0]['year'])\n",
    "        valueout.append((json.loads(r.content))[0]['value'])\n",
    "\n",
    "    df = pd.DataFrame({'year':yearout, datastring+'_'+country:valueout})\n",
    "    return df \n"
   ]
  },
  {
   "cell_type": "code",
   "execution_count": 3,
   "metadata": {},
   "outputs": [],
   "source": [
    "def mergedata(country):\n",
    "  \n",
    "    df = pd.DataFrame({'year':list(range(1961,2017))})\n",
    "    \n",
    "    for datastring in ['BCpc','BCtot','EFCpc','EFCtot','earth']:\n",
    "        dg = download(country,datastring)\n",
    "        df = df.merge(dg, on='year', how='left')\n",
    "        \n",
    "    return df"
   ]
  },
  {
   "cell_type": "code",
   "execution_count": 4,
   "metadata": {},
   "outputs": [],
   "source": [
    "def mergecountries():\n",
    "    \n",
    "    df = pd.DataFrame({'year':list(range(1961,2017))})\n",
    "    \n",
    "    for country in ['Canada', 'World']:\n",
    "        dg = mergedata(country)\n",
    "        df = df.merge(dg, on = 'year', how='left')\n",
    "        \n",
    "    return df\n"
   ]
  },
  {
   "cell_type": "code",
   "execution_count": 5,
   "metadata": {},
   "outputs": [],
   "source": [
    "df = mergecountries()"
   ]
  },
  {
   "cell_type": "code",
   "execution_count": 9,
   "metadata": {},
   "outputs": [],
   "source": [
    "import datetime as dt\n",
    "leaps = [1964,1968,1972,1976,1980,1984,1988,1992,1996,2000,2004,2008,2012,2016] \n",
    "\n",
    "for i in df['year']:\n",
    "    if i in leaps:\n",
    "        df['od_world'] = (df['BCtot_World'] / df['EFCtot_World']) * 366\n",
    "        df['od_can_pc'] = (df['BCpc_World']/ df['EFCpc_Canada']) * 366\n",
    "    else:\n",
    "        df['od_world'] = (df['BCtot_World'] / df['EFCtot_World']) * 365\n",
    "        df['od_can_pc'] = (df['BCpc_World']/ df['EFCpc_Canada']) * 365\n",
    "    \n",
    "\n",
    "df['odate_world'] = [pd.to_datetime('1/1/1900') + dt.timedelta(days=i) for i in df['od_world']]\n",
    "df['odate_can'] = [pd.to_datetime('1/1/1900') + dt.timedelta(days=i) for i in df['od_can_pc']]\n",
    "\n"
   ]
  },
  {
   "cell_type": "code",
   "execution_count": 26,
   "metadata": {},
   "outputs": [],
   "source": [
    "df.to_csv('~/code/footprint/static/footprintnetwork.csv')\n",
    "#df2=pd.read_csv('~/code/footprint/static/footprintnetwork.csv')"
   ]
  }
 ],
 "metadata": {
  "kernelspec": {
   "display_name": "Python [conda env:root]",
   "language": "python",
   "name": "conda-root-py"
  },
  "language_info": {
   "codemirror_mode": {
    "name": "ipython",
    "version": 3
   },
   "file_extension": ".py",
   "mimetype": "text/x-python",
   "name": "python",
   "nbconvert_exporter": "python",
   "pygments_lexer": "ipython3",
   "version": "3.7.3"
  }
 },
 "nbformat": 4,
 "nbformat_minor": 2
}
